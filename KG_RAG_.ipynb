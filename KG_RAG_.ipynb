{
  "nbformat": 4,
  "nbformat_minor": 0,
  "metadata": {
    "colab": {
      "provenance": [],
      "authorship_tag": "ABX9TyOTZm08JdxavreTNx9bc+OS",
      "include_colab_link": true
    },
    "kernelspec": {
      "name": "python3",
      "display_name": "Python 3"
    },
    "language_info": {
      "name": "python"
    }
  },
  "cells": [
    {
      "cell_type": "markdown",
      "metadata": {
        "id": "view-in-github",
        "colab_type": "text"
      },
      "source": [
        "<a href=\"https://colab.research.google.com/github/saishshinde15/Langchain_RAG_BOT/blob/main/KG_RAG_.ipynb\" target=\"_parent\"><img src=\"https://colab.research.google.com/assets/colab-badge.svg\" alt=\"Open In Colab\"/></a>"
      ]
    },
    {
      "cell_type": "code",
      "execution_count": 1,
      "metadata": {
        "colab": {
          "base_uri": "https://localhost:8080/"
        },
        "id": "rbwylXM9RjRa",
        "outputId": "a2b4d0ed-118f-46c1-db87-1f1c01447491"
      },
      "outputs": [
        {
          "output_type": "stream",
          "name": "stdout",
          "text": [
            "Requirement already satisfied: langchain in /usr/local/lib/python3.10/dist-packages (0.3.7)\n",
            "Collecting langchain-community\n",
            "  Downloading langchain_community-0.3.7-py3-none-any.whl.metadata (2.9 kB)\n",
            "Requirement already satisfied: PyYAML>=5.3 in /usr/local/lib/python3.10/dist-packages (from langchain) (6.0.2)\n",
            "Requirement already satisfied: SQLAlchemy<3,>=1.4 in /usr/local/lib/python3.10/dist-packages (from langchain) (2.0.36)\n",
            "Requirement already satisfied: aiohttp<4.0.0,>=3.8.3 in /usr/local/lib/python3.10/dist-packages (from langchain) (3.11.1)\n",
            "Requirement already satisfied: async-timeout<5.0.0,>=4.0.0 in /usr/local/lib/python3.10/dist-packages (from langchain) (4.0.3)\n",
            "Requirement already satisfied: langchain-core<0.4.0,>=0.3.15 in /usr/local/lib/python3.10/dist-packages (from langchain) (0.3.18)\n",
            "Requirement already satisfied: langchain-text-splitters<0.4.0,>=0.3.0 in /usr/local/lib/python3.10/dist-packages (from langchain) (0.3.2)\n",
            "Requirement already satisfied: langsmith<0.2.0,>=0.1.17 in /usr/local/lib/python3.10/dist-packages (from langchain) (0.1.143)\n",
            "Requirement already satisfied: numpy<2,>=1 in /usr/local/lib/python3.10/dist-packages (from langchain) (1.26.4)\n",
            "Requirement already satisfied: pydantic<3.0.0,>=2.7.4 in /usr/local/lib/python3.10/dist-packages (from langchain) (2.9.2)\n",
            "Requirement already satisfied: requests<3,>=2 in /usr/local/lib/python3.10/dist-packages (from langchain) (2.32.3)\n",
            "Requirement already satisfied: tenacity!=8.4.0,<10,>=8.1.0 in /usr/local/lib/python3.10/dist-packages (from langchain) (9.0.0)\n",
            "Collecting SQLAlchemy<3,>=1.4 (from langchain)\n",
            "  Downloading SQLAlchemy-2.0.35-cp310-cp310-manylinux_2_17_x86_64.manylinux2014_x86_64.whl.metadata (9.6 kB)\n",
            "Collecting dataclasses-json<0.7,>=0.5.7 (from langchain-community)\n",
            "  Downloading dataclasses_json-0.6.7-py3-none-any.whl.metadata (25 kB)\n",
            "Collecting httpx-sse<0.5.0,>=0.4.0 (from langchain-community)\n",
            "  Downloading httpx_sse-0.4.0-py3-none-any.whl.metadata (9.0 kB)\n",
            "Collecting pydantic-settings<3.0.0,>=2.4.0 (from langchain-community)\n",
            "  Downloading pydantic_settings-2.6.1-py3-none-any.whl.metadata (3.5 kB)\n",
            "Requirement already satisfied: aiohappyeyeballs>=2.3.0 in /usr/local/lib/python3.10/dist-packages (from aiohttp<4.0.0,>=3.8.3->langchain) (2.4.3)\n",
            "Requirement already satisfied: aiosignal>=1.1.2 in /usr/local/lib/python3.10/dist-packages (from aiohttp<4.0.0,>=3.8.3->langchain) (1.3.1)\n",
            "Requirement already satisfied: attrs>=17.3.0 in /usr/local/lib/python3.10/dist-packages (from aiohttp<4.0.0,>=3.8.3->langchain) (24.2.0)\n",
            "Requirement already satisfied: frozenlist>=1.1.1 in /usr/local/lib/python3.10/dist-packages (from aiohttp<4.0.0,>=3.8.3->langchain) (1.5.0)\n",
            "Requirement already satisfied: multidict<7.0,>=4.5 in /usr/local/lib/python3.10/dist-packages (from aiohttp<4.0.0,>=3.8.3->langchain) (6.1.0)\n",
            "Requirement already satisfied: propcache>=0.2.0 in /usr/local/lib/python3.10/dist-packages (from aiohttp<4.0.0,>=3.8.3->langchain) (0.2.0)\n",
            "Requirement already satisfied: yarl<2.0,>=1.17.0 in /usr/local/lib/python3.10/dist-packages (from aiohttp<4.0.0,>=3.8.3->langchain) (1.17.1)\n",
            "Collecting marshmallow<4.0.0,>=3.18.0 (from dataclasses-json<0.7,>=0.5.7->langchain-community)\n",
            "  Downloading marshmallow-3.23.1-py3-none-any.whl.metadata (7.5 kB)\n",
            "Collecting typing-inspect<1,>=0.4.0 (from dataclasses-json<0.7,>=0.5.7->langchain-community)\n",
            "  Downloading typing_inspect-0.9.0-py3-none-any.whl.metadata (1.5 kB)\n",
            "Requirement already satisfied: jsonpatch<2.0,>=1.33 in /usr/local/lib/python3.10/dist-packages (from langchain-core<0.4.0,>=0.3.15->langchain) (1.33)\n",
            "Requirement already satisfied: packaging<25,>=23.2 in /usr/local/lib/python3.10/dist-packages (from langchain-core<0.4.0,>=0.3.15->langchain) (24.2)\n",
            "Requirement already satisfied: typing-extensions>=4.7 in /usr/local/lib/python3.10/dist-packages (from langchain-core<0.4.0,>=0.3.15->langchain) (4.12.2)\n",
            "Requirement already satisfied: httpx<1,>=0.23.0 in /usr/local/lib/python3.10/dist-packages (from langsmith<0.2.0,>=0.1.17->langchain) (0.27.2)\n",
            "Requirement already satisfied: orjson<4.0.0,>=3.9.14 in /usr/local/lib/python3.10/dist-packages (from langsmith<0.2.0,>=0.1.17->langchain) (3.10.11)\n",
            "Requirement already satisfied: requests-toolbelt<2.0.0,>=1.0.0 in /usr/local/lib/python3.10/dist-packages (from langsmith<0.2.0,>=0.1.17->langchain) (1.0.0)\n",
            "Requirement already satisfied: annotated-types>=0.6.0 in /usr/local/lib/python3.10/dist-packages (from pydantic<3.0.0,>=2.7.4->langchain) (0.7.0)\n",
            "Requirement already satisfied: pydantic-core==2.23.4 in /usr/local/lib/python3.10/dist-packages (from pydantic<3.0.0,>=2.7.4->langchain) (2.23.4)\n",
            "Collecting python-dotenv>=0.21.0 (from pydantic-settings<3.0.0,>=2.4.0->langchain-community)\n",
            "  Downloading python_dotenv-1.0.1-py3-none-any.whl.metadata (23 kB)\n",
            "Requirement already satisfied: charset-normalizer<4,>=2 in /usr/local/lib/python3.10/dist-packages (from requests<3,>=2->langchain) (3.4.0)\n",
            "Requirement already satisfied: idna<4,>=2.5 in /usr/local/lib/python3.10/dist-packages (from requests<3,>=2->langchain) (3.10)\n",
            "Requirement already satisfied: urllib3<3,>=1.21.1 in /usr/local/lib/python3.10/dist-packages (from requests<3,>=2->langchain) (2.2.3)\n",
            "Requirement already satisfied: certifi>=2017.4.17 in /usr/local/lib/python3.10/dist-packages (from requests<3,>=2->langchain) (2024.8.30)\n",
            "Requirement already satisfied: greenlet!=0.4.17 in /usr/local/lib/python3.10/dist-packages (from SQLAlchemy<3,>=1.4->langchain) (3.1.1)\n",
            "Requirement already satisfied: anyio in /usr/local/lib/python3.10/dist-packages (from httpx<1,>=0.23.0->langsmith<0.2.0,>=0.1.17->langchain) (3.7.1)\n",
            "Requirement already satisfied: httpcore==1.* in /usr/local/lib/python3.10/dist-packages (from httpx<1,>=0.23.0->langsmith<0.2.0,>=0.1.17->langchain) (1.0.6)\n",
            "Requirement already satisfied: sniffio in /usr/local/lib/python3.10/dist-packages (from httpx<1,>=0.23.0->langsmith<0.2.0,>=0.1.17->langchain) (1.3.1)\n",
            "Requirement already satisfied: h11<0.15,>=0.13 in /usr/local/lib/python3.10/dist-packages (from httpcore==1.*->httpx<1,>=0.23.0->langsmith<0.2.0,>=0.1.17->langchain) (0.14.0)\n",
            "Requirement already satisfied: jsonpointer>=1.9 in /usr/local/lib/python3.10/dist-packages (from jsonpatch<2.0,>=1.33->langchain-core<0.4.0,>=0.3.15->langchain) (3.0.0)\n",
            "Collecting mypy-extensions>=0.3.0 (from typing-inspect<1,>=0.4.0->dataclasses-json<0.7,>=0.5.7->langchain-community)\n",
            "  Downloading mypy_extensions-1.0.0-py3-none-any.whl.metadata (1.1 kB)\n",
            "Requirement already satisfied: exceptiongroup in /usr/local/lib/python3.10/dist-packages (from anyio->httpx<1,>=0.23.0->langsmith<0.2.0,>=0.1.17->langchain) (1.2.2)\n",
            "Downloading langchain_community-0.3.7-py3-none-any.whl (2.4 MB)\n",
            "\u001b[2K   \u001b[90m━━━━━━━━━━━━━━━━━━━━━━━━━━━━━━━━━━━━━━━━\u001b[0m \u001b[32m2.4/2.4 MB\u001b[0m \u001b[31m21.0 MB/s\u001b[0m eta \u001b[36m0:00:00\u001b[0m\n",
            "\u001b[?25hDownloading dataclasses_json-0.6.7-py3-none-any.whl (28 kB)\n",
            "Downloading httpx_sse-0.4.0-py3-none-any.whl (7.8 kB)\n",
            "Downloading pydantic_settings-2.6.1-py3-none-any.whl (28 kB)\n",
            "Downloading SQLAlchemy-2.0.35-cp310-cp310-manylinux_2_17_x86_64.manylinux2014_x86_64.whl (3.1 MB)\n",
            "\u001b[2K   \u001b[90m━━━━━━━━━━━━━━━━━━━━━━━━━━━━━━━━━━━━━━━━\u001b[0m \u001b[32m3.1/3.1 MB\u001b[0m \u001b[31m21.9 MB/s\u001b[0m eta \u001b[36m0:00:00\u001b[0m\n",
            "\u001b[?25hDownloading marshmallow-3.23.1-py3-none-any.whl (49 kB)\n",
            "\u001b[2K   \u001b[90m━━━━━━━━━━━━━━━━━━━━━━━━━━━━━━━━━━━━━━━━\u001b[0m \u001b[32m49.5/49.5 kB\u001b[0m \u001b[31m2.0 MB/s\u001b[0m eta \u001b[36m0:00:00\u001b[0m\n",
            "\u001b[?25hDownloading python_dotenv-1.0.1-py3-none-any.whl (19 kB)\n",
            "Downloading typing_inspect-0.9.0-py3-none-any.whl (8.8 kB)\n",
            "Downloading mypy_extensions-1.0.0-py3-none-any.whl (4.7 kB)\n",
            "Installing collected packages: SQLAlchemy, python-dotenv, mypy-extensions, marshmallow, httpx-sse, typing-inspect, pydantic-settings, dataclasses-json, langchain-community\n",
            "  Attempting uninstall: SQLAlchemy\n",
            "    Found existing installation: SQLAlchemy 2.0.36\n",
            "    Uninstalling SQLAlchemy-2.0.36:\n",
            "      Successfully uninstalled SQLAlchemy-2.0.36\n",
            "Successfully installed SQLAlchemy-2.0.35 dataclasses-json-0.6.7 httpx-sse-0.4.0 langchain-community-0.3.7 marshmallow-3.23.1 mypy-extensions-1.0.0 pydantic-settings-2.6.1 python-dotenv-1.0.1 typing-inspect-0.9.0\n"
          ]
        }
      ],
      "source": [
        "pip install langchain langchain-community"
      ]
    },
    {
      "cell_type": "code",
      "source": [
        "# Neo4j and py2neo for Knowledge Graph handling\n",
        "!pip install neo4j\n",
        "!pip install py2neo\n",
        "\n",
        "# LangChain and related libraries\n",
        "!pip install langchain\n",
        "!pip install openai  # For OpenAI LLM support in LangChain\n",
        "!pip install sentence-transformers  # For Hugging Face embeddings\n",
        "!pip install faiss-cpu  # FAISS library for vector storage\n",
        "!pip install graphviz  # For generating ER diagrams if required\n",
        "\n",
        "# Hugging Face Transformers for HuggingFaceEmbeddings\n",
        "!pip install transformers\n",
        "\n",
        "# Optionally, install additional utilities if you need them\n",
        "!apt-get install -y graphviz\n"
      ],
      "metadata": {
        "colab": {
          "base_uri": "https://localhost:8080/"
        },
        "id": "gyKUOd0WSEeZ",
        "outputId": "925fec9d-fdbb-41a9-cac6-b9cd3a759a6e"
      },
      "execution_count": 2,
      "outputs": [
        {
          "output_type": "stream",
          "name": "stdout",
          "text": [
            "Collecting neo4j\n",
            "  Downloading neo4j-5.26.0-py3-none-any.whl.metadata (5.9 kB)\n",
            "Requirement already satisfied: pytz in /usr/local/lib/python3.10/dist-packages (from neo4j) (2024.2)\n",
            "Downloading neo4j-5.26.0-py3-none-any.whl (302 kB)\n",
            "\u001b[?25l   \u001b[90m━━━━━━━━━━━━━━━━━━━━━━━━━━━━━━━━━━━━━━━━\u001b[0m \u001b[32m0.0/302.0 kB\u001b[0m \u001b[31m?\u001b[0m eta \u001b[36m-:--:--\u001b[0m\r\u001b[2K   \u001b[91m━━━━━━━━━━━━━━━━━━━━━━━━━━━━━━━━━━━━━━━\u001b[0m\u001b[90m╺\u001b[0m \u001b[32m297.0/302.0 kB\u001b[0m \u001b[31m9.6 MB/s\u001b[0m eta \u001b[36m0:00:01\u001b[0m\r\u001b[2K   \u001b[90m━━━━━━━━━━━━━━━━━━━━━━━━━━━━━━━━━━━━━━━━\u001b[0m \u001b[32m302.0/302.0 kB\u001b[0m \u001b[31m7.0 MB/s\u001b[0m eta \u001b[36m0:00:00\u001b[0m\n",
            "\u001b[?25hInstalling collected packages: neo4j\n",
            "Successfully installed neo4j-5.26.0\n",
            "Collecting py2neo\n",
            "  Downloading py2neo-2021.2.4-py2.py3-none-any.whl.metadata (9.9 kB)\n",
            "Requirement already satisfied: certifi in /usr/local/lib/python3.10/dist-packages (from py2neo) (2024.8.30)\n",
            "Collecting interchange~=2021.0.4 (from py2neo)\n",
            "  Downloading interchange-2021.0.4-py2.py3-none-any.whl.metadata (1.9 kB)\n",
            "Collecting monotonic (from py2neo)\n",
            "  Downloading monotonic-1.6-py2.py3-none-any.whl.metadata (1.5 kB)\n",
            "Requirement already satisfied: packaging in /usr/local/lib/python3.10/dist-packages (from py2neo) (24.2)\n",
            "Collecting pansi>=2020.7.3 (from py2neo)\n",
            "  Downloading pansi-2024.11.0-py2.py3-none-any.whl.metadata (3.1 kB)\n",
            "Requirement already satisfied: pygments>=2.0.0 in /usr/local/lib/python3.10/dist-packages (from py2neo) (2.18.0)\n",
            "Requirement already satisfied: six>=1.15.0 in /usr/local/lib/python3.10/dist-packages (from py2neo) (1.16.0)\n",
            "Requirement already satisfied: urllib3 in /usr/local/lib/python3.10/dist-packages (from py2neo) (2.2.3)\n",
            "Requirement already satisfied: pytz in /usr/local/lib/python3.10/dist-packages (from interchange~=2021.0.4->py2neo) (2024.2)\n",
            "Requirement already satisfied: pillow in /usr/local/lib/python3.10/dist-packages (from pansi>=2020.7.3->py2neo) (11.0.0)\n",
            "Downloading py2neo-2021.2.4-py2.py3-none-any.whl (177 kB)\n",
            "\u001b[2K   \u001b[90m━━━━━━━━━━━━━━━━━━━━━━━━━━━━━━━━━━━━━━━━\u001b[0m \u001b[32m177.2/177.2 kB\u001b[0m \u001b[31m6.4 MB/s\u001b[0m eta \u001b[36m0:00:00\u001b[0m\n",
            "\u001b[?25hDownloading interchange-2021.0.4-py2.py3-none-any.whl (28 kB)\n",
            "Downloading pansi-2024.11.0-py2.py3-none-any.whl (26 kB)\n",
            "Downloading monotonic-1.6-py2.py3-none-any.whl (8.2 kB)\n",
            "Installing collected packages: monotonic, pansi, interchange, py2neo\n",
            "Successfully installed interchange-2021.0.4 monotonic-1.6 pansi-2024.11.0 py2neo-2021.2.4\n",
            "Requirement already satisfied: langchain in /usr/local/lib/python3.10/dist-packages (0.3.7)\n",
            "Requirement already satisfied: PyYAML>=5.3 in /usr/local/lib/python3.10/dist-packages (from langchain) (6.0.2)\n",
            "Requirement already satisfied: SQLAlchemy<3,>=1.4 in /usr/local/lib/python3.10/dist-packages (from langchain) (2.0.35)\n",
            "Requirement already satisfied: aiohttp<4.0.0,>=3.8.3 in /usr/local/lib/python3.10/dist-packages (from langchain) (3.11.1)\n",
            "Requirement already satisfied: async-timeout<5.0.0,>=4.0.0 in /usr/local/lib/python3.10/dist-packages (from langchain) (4.0.3)\n",
            "Requirement already satisfied: langchain-core<0.4.0,>=0.3.15 in /usr/local/lib/python3.10/dist-packages (from langchain) (0.3.18)\n",
            "Requirement already satisfied: langchain-text-splitters<0.4.0,>=0.3.0 in /usr/local/lib/python3.10/dist-packages (from langchain) (0.3.2)\n",
            "Requirement already satisfied: langsmith<0.2.0,>=0.1.17 in /usr/local/lib/python3.10/dist-packages (from langchain) (0.1.143)\n",
            "Requirement already satisfied: numpy<2,>=1 in /usr/local/lib/python3.10/dist-packages (from langchain) (1.26.4)\n",
            "Requirement already satisfied: pydantic<3.0.0,>=2.7.4 in /usr/local/lib/python3.10/dist-packages (from langchain) (2.9.2)\n",
            "Requirement already satisfied: requests<3,>=2 in /usr/local/lib/python3.10/dist-packages (from langchain) (2.32.3)\n",
            "Requirement already satisfied: tenacity!=8.4.0,<10,>=8.1.0 in /usr/local/lib/python3.10/dist-packages (from langchain) (9.0.0)\n",
            "Requirement already satisfied: aiohappyeyeballs>=2.3.0 in /usr/local/lib/python3.10/dist-packages (from aiohttp<4.0.0,>=3.8.3->langchain) (2.4.3)\n",
            "Requirement already satisfied: aiosignal>=1.1.2 in /usr/local/lib/python3.10/dist-packages (from aiohttp<4.0.0,>=3.8.3->langchain) (1.3.1)\n",
            "Requirement already satisfied: attrs>=17.3.0 in /usr/local/lib/python3.10/dist-packages (from aiohttp<4.0.0,>=3.8.3->langchain) (24.2.0)\n",
            "Requirement already satisfied: frozenlist>=1.1.1 in /usr/local/lib/python3.10/dist-packages (from aiohttp<4.0.0,>=3.8.3->langchain) (1.5.0)\n",
            "Requirement already satisfied: multidict<7.0,>=4.5 in /usr/local/lib/python3.10/dist-packages (from aiohttp<4.0.0,>=3.8.3->langchain) (6.1.0)\n",
            "Requirement already satisfied: propcache>=0.2.0 in /usr/local/lib/python3.10/dist-packages (from aiohttp<4.0.0,>=3.8.3->langchain) (0.2.0)\n",
            "Requirement already satisfied: yarl<2.0,>=1.17.0 in /usr/local/lib/python3.10/dist-packages (from aiohttp<4.0.0,>=3.8.3->langchain) (1.17.1)\n",
            "Requirement already satisfied: jsonpatch<2.0,>=1.33 in /usr/local/lib/python3.10/dist-packages (from langchain-core<0.4.0,>=0.3.15->langchain) (1.33)\n",
            "Requirement already satisfied: packaging<25,>=23.2 in /usr/local/lib/python3.10/dist-packages (from langchain-core<0.4.0,>=0.3.15->langchain) (24.2)\n",
            "Requirement already satisfied: typing-extensions>=4.7 in /usr/local/lib/python3.10/dist-packages (from langchain-core<0.4.0,>=0.3.15->langchain) (4.12.2)\n",
            "Requirement already satisfied: httpx<1,>=0.23.0 in /usr/local/lib/python3.10/dist-packages (from langsmith<0.2.0,>=0.1.17->langchain) (0.27.2)\n",
            "Requirement already satisfied: orjson<4.0.0,>=3.9.14 in /usr/local/lib/python3.10/dist-packages (from langsmith<0.2.0,>=0.1.17->langchain) (3.10.11)\n",
            "Requirement already satisfied: requests-toolbelt<2.0.0,>=1.0.0 in /usr/local/lib/python3.10/dist-packages (from langsmith<0.2.0,>=0.1.17->langchain) (1.0.0)\n",
            "Requirement already satisfied: annotated-types>=0.6.0 in /usr/local/lib/python3.10/dist-packages (from pydantic<3.0.0,>=2.7.4->langchain) (0.7.0)\n",
            "Requirement already satisfied: pydantic-core==2.23.4 in /usr/local/lib/python3.10/dist-packages (from pydantic<3.0.0,>=2.7.4->langchain) (2.23.4)\n",
            "Requirement already satisfied: charset-normalizer<4,>=2 in /usr/local/lib/python3.10/dist-packages (from requests<3,>=2->langchain) (3.4.0)\n",
            "Requirement already satisfied: idna<4,>=2.5 in /usr/local/lib/python3.10/dist-packages (from requests<3,>=2->langchain) (3.10)\n",
            "Requirement already satisfied: urllib3<3,>=1.21.1 in /usr/local/lib/python3.10/dist-packages (from requests<3,>=2->langchain) (2.2.3)\n",
            "Requirement already satisfied: certifi>=2017.4.17 in /usr/local/lib/python3.10/dist-packages (from requests<3,>=2->langchain) (2024.8.30)\n",
            "Requirement already satisfied: greenlet!=0.4.17 in /usr/local/lib/python3.10/dist-packages (from SQLAlchemy<3,>=1.4->langchain) (3.1.1)\n",
            "Requirement already satisfied: anyio in /usr/local/lib/python3.10/dist-packages (from httpx<1,>=0.23.0->langsmith<0.2.0,>=0.1.17->langchain) (3.7.1)\n",
            "Requirement already satisfied: httpcore==1.* in /usr/local/lib/python3.10/dist-packages (from httpx<1,>=0.23.0->langsmith<0.2.0,>=0.1.17->langchain) (1.0.6)\n",
            "Requirement already satisfied: sniffio in /usr/local/lib/python3.10/dist-packages (from httpx<1,>=0.23.0->langsmith<0.2.0,>=0.1.17->langchain) (1.3.1)\n",
            "Requirement already satisfied: h11<0.15,>=0.13 in /usr/local/lib/python3.10/dist-packages (from httpcore==1.*->httpx<1,>=0.23.0->langsmith<0.2.0,>=0.1.17->langchain) (0.14.0)\n",
            "Requirement already satisfied: jsonpointer>=1.9 in /usr/local/lib/python3.10/dist-packages (from jsonpatch<2.0,>=1.33->langchain-core<0.4.0,>=0.3.15->langchain) (3.0.0)\n",
            "Requirement already satisfied: exceptiongroup in /usr/local/lib/python3.10/dist-packages (from anyio->httpx<1,>=0.23.0->langsmith<0.2.0,>=0.1.17->langchain) (1.2.2)\n",
            "Requirement already satisfied: openai in /usr/local/lib/python3.10/dist-packages (1.54.4)\n",
            "Requirement already satisfied: anyio<5,>=3.5.0 in /usr/local/lib/python3.10/dist-packages (from openai) (3.7.1)\n",
            "Requirement already satisfied: distro<2,>=1.7.0 in /usr/local/lib/python3.10/dist-packages (from openai) (1.9.0)\n",
            "Requirement already satisfied: httpx<1,>=0.23.0 in /usr/local/lib/python3.10/dist-packages (from openai) (0.27.2)\n",
            "Requirement already satisfied: jiter<1,>=0.4.0 in /usr/local/lib/python3.10/dist-packages (from openai) (0.7.1)\n",
            "Requirement already satisfied: pydantic<3,>=1.9.0 in /usr/local/lib/python3.10/dist-packages (from openai) (2.9.2)\n",
            "Requirement already satisfied: sniffio in /usr/local/lib/python3.10/dist-packages (from openai) (1.3.1)\n",
            "Requirement already satisfied: tqdm>4 in /usr/local/lib/python3.10/dist-packages (from openai) (4.66.6)\n",
            "Requirement already satisfied: typing-extensions<5,>=4.11 in /usr/local/lib/python3.10/dist-packages (from openai) (4.12.2)\n",
            "Requirement already satisfied: idna>=2.8 in /usr/local/lib/python3.10/dist-packages (from anyio<5,>=3.5.0->openai) (3.10)\n",
            "Requirement already satisfied: exceptiongroup in /usr/local/lib/python3.10/dist-packages (from anyio<5,>=3.5.0->openai) (1.2.2)\n",
            "Requirement already satisfied: certifi in /usr/local/lib/python3.10/dist-packages (from httpx<1,>=0.23.0->openai) (2024.8.30)\n",
            "Requirement already satisfied: httpcore==1.* in /usr/local/lib/python3.10/dist-packages (from httpx<1,>=0.23.0->openai) (1.0.6)\n",
            "Requirement already satisfied: h11<0.15,>=0.13 in /usr/local/lib/python3.10/dist-packages (from httpcore==1.*->httpx<1,>=0.23.0->openai) (0.14.0)\n",
            "Requirement already satisfied: annotated-types>=0.6.0 in /usr/local/lib/python3.10/dist-packages (from pydantic<3,>=1.9.0->openai) (0.7.0)\n",
            "Requirement already satisfied: pydantic-core==2.23.4 in /usr/local/lib/python3.10/dist-packages (from pydantic<3,>=1.9.0->openai) (2.23.4)\n",
            "Requirement already satisfied: sentence-transformers in /usr/local/lib/python3.10/dist-packages (3.2.1)\n",
            "Requirement already satisfied: transformers<5.0.0,>=4.41.0 in /usr/local/lib/python3.10/dist-packages (from sentence-transformers) (4.46.2)\n",
            "Requirement already satisfied: tqdm in /usr/local/lib/python3.10/dist-packages (from sentence-transformers) (4.66.6)\n",
            "Requirement already satisfied: torch>=1.11.0 in /usr/local/lib/python3.10/dist-packages (from sentence-transformers) (2.5.1+cu121)\n",
            "Requirement already satisfied: scikit-learn in /usr/local/lib/python3.10/dist-packages (from sentence-transformers) (1.5.2)\n",
            "Requirement already satisfied: scipy in /usr/local/lib/python3.10/dist-packages (from sentence-transformers) (1.13.1)\n",
            "Requirement already satisfied: huggingface-hub>=0.20.0 in /usr/local/lib/python3.10/dist-packages (from sentence-transformers) (0.26.2)\n",
            "Requirement already satisfied: Pillow in /usr/local/lib/python3.10/dist-packages (from sentence-transformers) (11.0.0)\n",
            "Requirement already satisfied: filelock in /usr/local/lib/python3.10/dist-packages (from huggingface-hub>=0.20.0->sentence-transformers) (3.16.1)\n",
            "Requirement already satisfied: fsspec>=2023.5.0 in /usr/local/lib/python3.10/dist-packages (from huggingface-hub>=0.20.0->sentence-transformers) (2024.10.0)\n",
            "Requirement already satisfied: packaging>=20.9 in /usr/local/lib/python3.10/dist-packages (from huggingface-hub>=0.20.0->sentence-transformers) (24.2)\n",
            "Requirement already satisfied: pyyaml>=5.1 in /usr/local/lib/python3.10/dist-packages (from huggingface-hub>=0.20.0->sentence-transformers) (6.0.2)\n",
            "Requirement already satisfied: requests in /usr/local/lib/python3.10/dist-packages (from huggingface-hub>=0.20.0->sentence-transformers) (2.32.3)\n",
            "Requirement already satisfied: typing-extensions>=3.7.4.3 in /usr/local/lib/python3.10/dist-packages (from huggingface-hub>=0.20.0->sentence-transformers) (4.12.2)\n",
            "Requirement already satisfied: networkx in /usr/local/lib/python3.10/dist-packages (from torch>=1.11.0->sentence-transformers) (3.4.2)\n",
            "Requirement already satisfied: jinja2 in /usr/local/lib/python3.10/dist-packages (from torch>=1.11.0->sentence-transformers) (3.1.4)\n",
            "Requirement already satisfied: sympy==1.13.1 in /usr/local/lib/python3.10/dist-packages (from torch>=1.11.0->sentence-transformers) (1.13.1)\n",
            "Requirement already satisfied: mpmath<1.4,>=1.1.0 in /usr/local/lib/python3.10/dist-packages (from sympy==1.13.1->torch>=1.11.0->sentence-transformers) (1.3.0)\n",
            "Requirement already satisfied: numpy>=1.17 in /usr/local/lib/python3.10/dist-packages (from transformers<5.0.0,>=4.41.0->sentence-transformers) (1.26.4)\n",
            "Requirement already satisfied: regex!=2019.12.17 in /usr/local/lib/python3.10/dist-packages (from transformers<5.0.0,>=4.41.0->sentence-transformers) (2024.9.11)\n",
            "Requirement already satisfied: safetensors>=0.4.1 in /usr/local/lib/python3.10/dist-packages (from transformers<5.0.0,>=4.41.0->sentence-transformers) (0.4.5)\n",
            "Requirement already satisfied: tokenizers<0.21,>=0.20 in /usr/local/lib/python3.10/dist-packages (from transformers<5.0.0,>=4.41.0->sentence-transformers) (0.20.3)\n",
            "Requirement already satisfied: joblib>=1.2.0 in /usr/local/lib/python3.10/dist-packages (from scikit-learn->sentence-transformers) (1.4.2)\n",
            "Requirement already satisfied: threadpoolctl>=3.1.0 in /usr/local/lib/python3.10/dist-packages (from scikit-learn->sentence-transformers) (3.5.0)\n",
            "Requirement already satisfied: MarkupSafe>=2.0 in /usr/local/lib/python3.10/dist-packages (from jinja2->torch>=1.11.0->sentence-transformers) (3.0.2)\n",
            "Requirement already satisfied: charset-normalizer<4,>=2 in /usr/local/lib/python3.10/dist-packages (from requests->huggingface-hub>=0.20.0->sentence-transformers) (3.4.0)\n",
            "Requirement already satisfied: idna<4,>=2.5 in /usr/local/lib/python3.10/dist-packages (from requests->huggingface-hub>=0.20.0->sentence-transformers) (3.10)\n",
            "Requirement already satisfied: urllib3<3,>=1.21.1 in /usr/local/lib/python3.10/dist-packages (from requests->huggingface-hub>=0.20.0->sentence-transformers) (2.2.3)\n",
            "Requirement already satisfied: certifi>=2017.4.17 in /usr/local/lib/python3.10/dist-packages (from requests->huggingface-hub>=0.20.0->sentence-transformers) (2024.8.30)\n",
            "Collecting faiss-cpu\n",
            "  Downloading faiss_cpu-1.9.0.post1-cp310-cp310-manylinux_2_17_x86_64.manylinux2014_x86_64.whl.metadata (4.4 kB)\n",
            "Requirement already satisfied: numpy<3.0,>=1.25.0 in /usr/local/lib/python3.10/dist-packages (from faiss-cpu) (1.26.4)\n",
            "Requirement already satisfied: packaging in /usr/local/lib/python3.10/dist-packages (from faiss-cpu) (24.2)\n",
            "Downloading faiss_cpu-1.9.0.post1-cp310-cp310-manylinux_2_17_x86_64.manylinux2014_x86_64.whl (27.5 MB)\n",
            "\u001b[2K   \u001b[90m━━━━━━━━━━━━━━━━━━━━━━━━━━━━━━━━━━━━━━━━\u001b[0m \u001b[32m27.5/27.5 MB\u001b[0m \u001b[31m42.2 MB/s\u001b[0m eta \u001b[36m0:00:00\u001b[0m\n",
            "\u001b[?25hInstalling collected packages: faiss-cpu\n",
            "Successfully installed faiss-cpu-1.9.0.post1\n",
            "Requirement already satisfied: graphviz in /usr/local/lib/python3.10/dist-packages (0.20.3)\n",
            "Requirement already satisfied: transformers in /usr/local/lib/python3.10/dist-packages (4.46.2)\n",
            "Requirement already satisfied: filelock in /usr/local/lib/python3.10/dist-packages (from transformers) (3.16.1)\n",
            "Requirement already satisfied: huggingface-hub<1.0,>=0.23.2 in /usr/local/lib/python3.10/dist-packages (from transformers) (0.26.2)\n",
            "Requirement already satisfied: numpy>=1.17 in /usr/local/lib/python3.10/dist-packages (from transformers) (1.26.4)\n",
            "Requirement already satisfied: packaging>=20.0 in /usr/local/lib/python3.10/dist-packages (from transformers) (24.2)\n",
            "Requirement already satisfied: pyyaml>=5.1 in /usr/local/lib/python3.10/dist-packages (from transformers) (6.0.2)\n",
            "Requirement already satisfied: regex!=2019.12.17 in /usr/local/lib/python3.10/dist-packages (from transformers) (2024.9.11)\n",
            "Requirement already satisfied: requests in /usr/local/lib/python3.10/dist-packages (from transformers) (2.32.3)\n",
            "Requirement already satisfied: safetensors>=0.4.1 in /usr/local/lib/python3.10/dist-packages (from transformers) (0.4.5)\n",
            "Requirement already satisfied: tokenizers<0.21,>=0.20 in /usr/local/lib/python3.10/dist-packages (from transformers) (0.20.3)\n",
            "Requirement already satisfied: tqdm>=4.27 in /usr/local/lib/python3.10/dist-packages (from transformers) (4.66.6)\n",
            "Requirement already satisfied: fsspec>=2023.5.0 in /usr/local/lib/python3.10/dist-packages (from huggingface-hub<1.0,>=0.23.2->transformers) (2024.10.0)\n",
            "Requirement already satisfied: typing-extensions>=3.7.4.3 in /usr/local/lib/python3.10/dist-packages (from huggingface-hub<1.0,>=0.23.2->transformers) (4.12.2)\n",
            "Requirement already satisfied: charset-normalizer<4,>=2 in /usr/local/lib/python3.10/dist-packages (from requests->transformers) (3.4.0)\n",
            "Requirement already satisfied: idna<4,>=2.5 in /usr/local/lib/python3.10/dist-packages (from requests->transformers) (3.10)\n",
            "Requirement already satisfied: urllib3<3,>=1.21.1 in /usr/local/lib/python3.10/dist-packages (from requests->transformers) (2.2.3)\n",
            "Requirement already satisfied: certifi>=2017.4.17 in /usr/local/lib/python3.10/dist-packages (from requests->transformers) (2024.8.30)\n",
            "Reading package lists... Done\n",
            "Building dependency tree... Done\n",
            "Reading state information... Done\n",
            "graphviz is already the newest version (2.42.2-6ubuntu0.1).\n",
            "0 upgraded, 0 newly installed, 0 to remove and 49 not upgraded.\n"
          ]
        }
      ]
    },
    {
      "cell_type": "code",
      "source": [
        "%pip install -qU langchain-groq"
      ],
      "metadata": {
        "colab": {
          "base_uri": "https://localhost:8080/"
        },
        "id": "-3BCJ4iNdM7e",
        "outputId": "c36a3619-854b-4ea6-a4a3-781148192d35"
      },
      "execution_count": 3,
      "outputs": [
        {
          "output_type": "stream",
          "name": "stdout",
          "text": [
            "\u001b[?25l   \u001b[90m━━━━━━━━━━━━━━━━━━━━━━━━━━━━━━━━━━━━━━━━\u001b[0m \u001b[32m0.0/108.9 kB\u001b[0m \u001b[31m?\u001b[0m eta \u001b[36m-:--:--\u001b[0m\r\u001b[2K   \u001b[90m━━━━━━━━━━━━━━━━━━━━━━━━━━━━━━━━━━━━━━━━\u001b[0m \u001b[32m108.9/108.9 kB\u001b[0m \u001b[31m6.4 MB/s\u001b[0m eta \u001b[36m0:00:00\u001b[0m\n",
            "\u001b[?25h"
          ]
        }
      ]
    },
    {
      "cell_type": "code",
      "source": [
        "import os\n",
        "from py2neo import Graph\n",
        "from langchain_groq import ChatGroq\n",
        "from langchain.prompts import PromptTemplate\n",
        "from langchain.vectorstores import FAISS\n",
        "from langchain.embeddings import HuggingFaceEmbeddings\n",
        "from langchain.text_splitter import CharacterTextSplitter\n",
        "from langchain.document_loaders import WebBaseLoader\n",
        "from langchain.memory import ConversationBufferMemory\n",
        "from langchain.chains import RetrievalQA\n",
        "#from langchain.retrievers import VectorstoreRetriever\n",
        "from langchain_core.vectorstores import VectorStoreRetriever"
      ],
      "metadata": {
        "id": "qZ1GqEIpXKgO",
        "colab": {
          "base_uri": "https://localhost:8080/"
        },
        "outputId": "27c0a032-72d7-42f3-ee92-bd2c0f7d9026"
      },
      "execution_count": 4,
      "outputs": [
        {
          "output_type": "stream",
          "name": "stderr",
          "text": [
            "WARNING:langchain_community.utils.user_agent:USER_AGENT environment variable not set, consider setting it to identify your requests.\n"
          ]
        }
      ]
    },
    {
      "cell_type": "code",
      "source": [
        "import getpass\n",
        "import os\n",
        "\n",
        "if \"GROQ_API_KEY\" not in os.environ:\n",
        "    os.environ[\"GROQ_API_KEY\"] = getpass.getpass(\"Enter your Groq API key: \")"
      ],
      "metadata": {
        "colab": {
          "base_uri": "https://localhost:8080/"
        },
        "id": "VhllZE5Tc_uZ",
        "outputId": "d9502c5a-f504-478f-9ba9-575070b3bb0e"
      },
      "execution_count": 5,
      "outputs": [
        {
          "name": "stdout",
          "output_type": "stream",
          "text": [
            "Enter your Groq API key: ··········\n"
          ]
        }
      ]
    },
    {
      "cell_type": "code",
      "source": [
        "llm=ChatGroq(model='llama-3.1-8b-instant',temperature=0.5)"
      ],
      "metadata": {
        "id": "a9dz3F3MdjgM"
      },
      "execution_count": 6,
      "outputs": []
    },
    {
      "cell_type": "code",
      "source": [
        "from google.colab import userdata\n",
        "password=userdata.get('neo4j')"
      ],
      "metadata": {
        "id": "XbaS2e2ReLHm"
      },
      "execution_count": 7,
      "outputs": []
    },
    {
      "cell_type": "code",
      "source": [
        "NEO4J_URI = \"neo4j+s://1837079e.databases.neo4j.io\"\n",
        "NEO4J_USERNAME = \"neo4j\"\n",
        "NEO4J_PASSWORD = password\n",
        "\n",
        "graph = Graph(NEO4J_URI, auth=(NEO4J_USERNAME, NEO4J_PASSWORD))\n",
        "\n",
        "# Test the connection\n",
        "try:\n",
        "    graph.run(\"MATCH (n) RETURN count(n)\")\n",
        "    print(\"Successfully connected to Neo4j!\")\n",
        "except Exception as e:\n",
        "    print(f\"Failed to connect to Neo4j: {e}\")"
      ],
      "metadata": {
        "colab": {
          "base_uri": "https://localhost:8080/"
        },
        "id": "6J0eDYGkjeTl",
        "outputId": "bd8c4c86-4562-4a50-e963-f823b4bc5a4a"
      },
      "execution_count": 8,
      "outputs": [
        {
          "output_type": "stream",
          "name": "stdout",
          "text": [
            "Successfully connected to Neo4j!\n"
          ]
        }
      ]
    },
    {
      "cell_type": "code",
      "source": [
        "def classify_cybersecurity_query(query):\n",
        "    \"\"\"\n",
        "    Classifies a cybersecurity-related query using a pre-defined knowledge graph.\n",
        "\n",
        "    Args:\n",
        "        query: The input query string.\n",
        "\n",
        "    Returns:\n",
        "        A string representing the classification of the query.\n",
        "        Returns an error message if the query classification fails.\n",
        "    \"\"\"\n",
        "    try:\n",
        "        # Example classification logic using a simple keyword-based approach\n",
        "        #  (replace with your actual knowledge graph query)\n",
        "        query = query.lower()\n",
        "\n",
        "        if \"malware\" in query or \"virus\" in query or \"ransomware\" in query:\n",
        "            return \"Malware Analysis\"\n",
        "        elif \"phishing\" in query or \"social engineering\" in query:\n",
        "            return \"Social Engineering and Phishing\"\n",
        "        elif \"network security\" in query or \"firewall\" in query or \"intrusion detection\" in query:\n",
        "            return \"Network Security\"\n",
        "        elif \"vulnerability\" in query or \"penetration testing\" in query:\n",
        "            return \"Vulnerability Management\"\n",
        "        elif \"incident response\" in query or \"security breach\" in query:\n",
        "            return \"Incident Response\"\n",
        "        else:\n",
        "            # Use Neo4j to search for related concepts in the knowledge graph\n",
        "            # Construct a Cypher query based on the user's input to find relevant concepts or categories\n",
        "            cypher_query = f\"\"\"\n",
        "                MATCH (c:CybersecurityConcept)\n",
        "                WHERE toLower(c.name) CONTAINS toLower(\"{query}\")\n",
        "                RETURN c.category\n",
        "            \"\"\"\n",
        "            result = graph.run(cypher_query).data()\n",
        "\n",
        "            # Extract the category from the query result\n",
        "            if result:\n",
        "                return result[0].get(\"c.category\", \"Unknown\")\n",
        "            else:\n",
        "                return \"Unknown Category\"\n",
        "\n",
        "    except Exception as e:\n",
        "        return f\"Error classifying query: {e}\""
      ],
      "metadata": {
        "id": "fk6v3cxLjpxM"
      },
      "execution_count": 9,
      "outputs": []
    },
    {
      "cell_type": "code",
      "source": [
        "# Change accordingly to the data in neo4js\n",
        "def query_knowledge_graph(query):\n",
        "    \"\"\"Query the cybersecurity knowledge graph for entities and relationships.\"\"\"\n",
        "    cypher_query = f\"\"\"\n",
        "    MATCH (threat:ThreatActor)-[r:EXPLOITS]->(vulnerability:Vulnerability)\n",
        "    WHERE threat.name CONTAINS '{query}' OR vulnerability.name CONTAINS '{query}'\n",
        "    RETURN threat.name AS ThreatActor, r AS Exploit, vulnerability.name AS Vulnerability LIMIT 10\n",
        "    \"\"\"\n",
        "    results = graph.run(cypher_query).data()\n",
        "\n",
        "    if results:\n",
        "        knowledge = []\n",
        "        for result in results:\n",
        "            knowledge.append(f\"{result['ThreatActor']} -[EXPLOITS]→ {result['Vulnerability']}\")\n",
        "        return knowledge\n",
        "    else:\n",
        "        return [\"No relevant threats or vulnerabilities found in the knowledge graph.\"]"
      ],
      "metadata": {
        "id": "SOVHVcUwk2NK"
      },
      "execution_count": 10,
      "outputs": []
    },
    {
      "cell_type": "code",
      "source": [
        "from langchain.document_loaders import WebBaseLoader\n",
        "from langchain.text_splitter import CharacterTextSplitter\n",
        "\n",
        "def fetch_and_split(urls):\n",
        "    loader = WebBaseLoader(urls)\n",
        "    data = loader.load()\n",
        "    text_splitter = CharacterTextSplitter(chunk_size=2000, chunk_overlap=0)\n",
        "    docs = text_splitter.split_documents(data)\n",
        "    return docs\n",
        "\n",
        "# Example usage\n",
        "urls = [\"https://www.simplilearn.com/tutorials/cyber-security-tutorial/types-of-cyber-attacks\", \"https://cheatsheetseries.owasp.org/cheatsheets/SQL_Injection_Prevention_Cheat_Sheet.html\"] # Replace with your URLs\n",
        "documents = fetch_and_split(urls)\n",
        "\n",
        "for doc in documents:\n",
        "    print(doc.page_content[:50]) # Print first 50 chars of each chunk"
      ],
      "metadata": {
        "colab": {
          "base_uri": "https://localhost:8080/"
        },
        "id": "4WvXKCyXlnJ5",
        "outputId": "1bb23ff2-8efd-46fb-b199-1e261f41c3db"
      },
      "execution_count": 12,
      "outputs": [
        {
          "output_type": "stream",
          "name": "stderr",
          "text": [
            "WARNING:langchain_text_splitters.base:Created a chunk of size 35220, which is longer than the specified 2000\n",
            "WARNING:langchain_text_splitters.base:Created a chunk of size 2822, which is longer than the specified 2000\n",
            "WARNING:langchain_text_splitters.base:Created a chunk of size 4666, which is longer than the specified 2000\n"
          ]
        },
        {
          "output_type": "stream",
          "name": "stdout",
          "text": [
            "Types of Cyber Attacks You Should Be Aware of in 2\n",
            "All CoursesAll CoursesReviewsFor BusinessResources\n",
            "© 2009 -2024- Simplilearn Americas Inc.Follow us!R\n",
            "SQL Injection Prevention - OWASP Cheat Sheet Serie\n",
            "Microservices Security\n",
            "  \n",
            "\n",
            "    Microservices based\n",
            "Related Articles\n",
            "    \n",
            "\n",
            "\n",
            "    Secrets Management\n",
            "  \n",
            "\n",
            "Details Of Least Privilege When Developing\n",
            "    \n",
            "\n",
            " \n",
            "Option 1: Use of Prepared Statements (with Paramet\n",
            "Safe C# .NET Prepared Statement Example¶\n",
            "In .NET, \n",
            "Other Examples of Safe Prepared Statements¶\n",
            "If you\n",
            "Safe VB .NET Stored Procedure Example¶\n",
            "The followi\n",
            "Defense Option 3: Allow-list Input Validation¶\n",
            "If \n",
            "Safest Use Of Dynamic SQL Generation (DISCOURAGED)\n",
            "Any time user input can be converted to a non-Stri\n",
            "Least Privilege¶\n",
            "To minimize the potential damage \n",
            "SQL Injection Cheat Sheet\n",
            "Bypassing WAF's with SQL\n"
          ]
        }
      ]
    },
    {
      "cell_type": "code",
      "source": [
        "def create_faiss_vector_store(docs):\n",
        "    \"\"\"\n",
        "    Creates a FAISS vector store from a list of documents using Hugging Face embeddings.\n",
        "    \"\"\"\n",
        "    try:\n",
        "        embeddings = HuggingFaceEmbeddings()\n",
        "        vectorstore = FAISS.from_documents(docs, embeddings)\n",
        "        return vectorstore\n",
        "    except Exception as e:\n",
        "        print(f\"Error creating FAISS vector store: {e}\")\n",
        "        return None"
      ],
      "metadata": {
        "id": "QGooqYRsl3V7"
      },
      "execution_count": 13,
      "outputs": []
    },
    {
      "cell_type": "code",
      "source": [
        "def hybrid_retrieval(query):\n",
        "    \"\"\"\n",
        "    Combines knowledge graph and document retrieval to answer a cybersecurity query.\n",
        "    \"\"\"\n",
        "    # 1. Classify the query using the knowledge graph\n",
        "    classification = classify_cybersecurity_query(query)\n",
        "    print(f\"Query Classification: {classification}\")\n",
        "\n",
        "    # 2. Query the knowledge graph based on the query\n",
        "    kg_results = query_knowledge_graph(query)\n",
        "    print(f\"Knowledge Graph Results:\\n{kg_results}\")\n",
        "\n",
        "    # 3. Perform document retrieval using FAISS\n",
        "    vectorstore = create_faiss_vector_store(documents)\n",
        "    if vectorstore:\n",
        "        retriever = VectorStoreRetriever(vectorstore=vectorstore)\n",
        "        qa = RetrievalQA.from_chain_type(\n",
        "            llm=llm, chain_type=\"stuff\", retriever=retriever, return_source_documents=True\n",
        "        )\n",
        "        document_results = qa({\"query\": query})\n",
        "        print(f\"Document Retrieval Results:\\n{document_results['result']}\")\n",
        "        #print(f\"\\nSource Documents:\\n{document_results['source_documents']}\")\n",
        "\n",
        "    else:\n",
        "        print(\"Failed to create FAISS vector store. Skipping document retrieval.\")\n",
        "\n",
        "    #Combine results and return\n",
        "    combined_results = {\n",
        "        \"classification\": classification,\n",
        "        \"knowledge_graph\": kg_results,\n",
        "        \"document_retrieval\": document_results['result'] if vectorstore else \"Unavailable\"\n",
        "    }\n",
        "    return combined_results"
      ],
      "metadata": {
        "id": "1Kjjip0sl8Z1"
      },
      "execution_count": 14,
      "outputs": []
    },
    {
      "cell_type": "code",
      "source": [
        "def generate_response(user_query):\n",
        "    \"\"\"\n",
        "    Generates a comprehensive response to a user query using a hybrid approach\n",
        "    combining knowledge graph and document retrieval.\n",
        "    \"\"\"\n",
        "    try:\n",
        "        response = hybrid_retrieval(user_query)\n",
        "        return response\n",
        "    except Exception as e:\n",
        "        return f\"An error occurred: {e}\""
      ],
      "metadata": {
        "id": "gwXAGdnLmCOG"
      },
      "execution_count": 15,
      "outputs": []
    },
    {
      "cell_type": "code",
      "source": [
        "def user_feedback(query, response, feedback):\n",
        "    \"\"\"\n",
        "    Collects user feedback on the generated response.\n",
        "\n",
        "    Args:\n",
        "        query: The original user query.\n",
        "        response: The generated response.\n",
        "        feedback: The user's feedback (e.g., \"good\", \"bad\", \"needs improvement\").\n",
        "    \"\"\"\n",
        "    try:\n",
        "        # Example of storing feedback in a text file\n",
        "        with open(\"user_feedback.txt\", \"a\") as f:  # Example using a text file\n",
        "            f.write(f\"Query: {query}\\n\")\n",
        "            f.write(f\"Response: {response}\\n\")\n",
        "            f.write(f\"Feedback: {feedback}\\n\\n\")\n",
        "\n",
        "        print(\"Feedback recorded successfully!\")\n",
        "\n",
        "    except Exception as e:\n",
        "        print(f\"Error recording feedback: {e}\")"
      ],
      "metadata": {
        "id": "aKK79fitmG06"
      },
      "execution_count": 17,
      "outputs": []
    },
    {
      "cell_type": "code",
      "source": [
        "# Main Function\n",
        "def main():\n",
        "    \"\"\"Main function to handle user queries and feedback.\"\"\"\n",
        "    while True:\n",
        "        user_query = input(\"Enter your cybersecurity query (or type 'exit' to quit): \")\n",
        "        if user_query.lower() == \"exit\":\n",
        "            break\n",
        "\n",
        "        response = generate_response(user_query)\n",
        "        print(f\"\\nResponse:\\n{response}\")\n",
        "\n",
        "        feedback = input(\"Enter your feedback (good, bad, needs improvement, or skip): \").lower()\n",
        "        if feedback != \"skip\":\n",
        "            user_feedback(user_query, response, feedback)\n",
        "\n",
        "if __name__ == \"__main__\":\n",
        "    main()"
      ],
      "metadata": {
        "colab": {
          "base_uri": "https://localhost:8080/"
        },
        "id": "9uVjhJx-mLO_",
        "outputId": "bcf47eda-2f2c-48ad-bdd9-10680d84621c"
      },
      "execution_count": 18,
      "outputs": [
        {
          "output_type": "stream",
          "name": "stdout",
          "text": [
            "Enter your cybersecurity query (or type 'exit' to quit): what is sql injection attack\n",
            "Query Classification: Unknown Category\n",
            "Knowledge Graph Results:\n",
            "['No relevant threats or vulnerabilities found in the knowledge graph.']\n"
          ]
        },
        {
          "output_type": "stream",
          "name": "stderr",
          "text": [
            "<ipython-input-13-db9d15b26f86>:6: LangChainDeprecationWarning: Default values for HuggingFaceEmbeddings.model_name were deprecated in LangChain 0.2.16 and will be removed in 0.4.0. Explicitly pass a model_name to the HuggingFaceEmbeddings constructor instead.\n",
            "  embeddings = HuggingFaceEmbeddings()\n"
          ]
        },
        {
          "output_type": "stream",
          "name": "stdout",
          "text": [
            "Document Retrieval Results:\n",
            "A SQL injection attack is a type of cyber attack where an attacker injects malicious SQL code into a web application's database to extract or modify sensitive data, or to disrupt the application's functionality.\n",
            "\n",
            "Here's a simplified explanation of how a SQL injection attack works:\n",
            "\n",
            "1. **Vulnerable application**: A web application uses user input to construct SQL queries, without properly validating or sanitizing the input. This allows an attacker to inject malicious SQL code.\n",
            "2. **Malicious input**: An attacker enters malicious SQL code into the application's input field, such as a username or password field.\n",
            "3. **SQL query construction**: The application constructs a SQL query using the user input, which includes the malicious SQL code.\n",
            "4. **SQL injection**: The malicious SQL code is executed by the database, allowing the attacker to extract or modify sensitive data, or to disrupt the application's functionality.\n",
            "\n",
            "Types of SQL injection attacks:\n",
            "\n",
            "1. **Classic SQL injection**: The attacker injects malicious SQL code to extract sensitive data, such as passwords or credit card numbers.\n",
            "2. **Blind SQL injection**: The attacker injects malicious SQL code to extract sensitive data, but the application does not provide any feedback or error messages.\n",
            "3. **Time-based SQL injection**: The attacker injects malicious SQL code to extract sensitive data, using time-based differences in the application's response.\n",
            "4. **Boolean-based SQL injection**: The attacker injects malicious SQL code to extract sensitive data, using boolean logic to determine the presence or absence of certain data.\n",
            "\n",
            "Common techniques used in SQL injection attacks:\n",
            "\n",
            "1. **Union operator**: The attacker uses the union operator to combine the results of two or more SQL queries.\n",
            "2. **Comment injection**: The attacker uses comments to hide malicious SQL code.\n",
            "3. **Error-based SQL injection**: The attacker uses error messages to extract sensitive data.\n",
            "4. **Out-of-band SQL injection**: The attacker uses out-of-band communication channels, such as email or file uploads, to extract sensitive data.\n",
            "\n",
            "To prevent SQL injection attacks, it's essential to:\n",
            "\n",
            "1. **Use parameterized queries**: Use parameterized queries to separate the SQL code from the user input.\n",
            "2. **Validate user input**: Validate user input to prevent malicious SQL code from being injected.\n",
            "3. **Use prepared statements**: Use prepared statements to prevent SQL injection attacks.\n",
            "4. **Implement input validation**: Implement input validation to prevent malicious SQL code from being injected.\n",
            "5. **Regularly update and patch**: Regularly update and patch the application and database to prevent known vulnerabilities.\n",
            "\n",
            "Response:\n",
            "{'classification': 'Unknown Category', 'knowledge_graph': ['No relevant threats or vulnerabilities found in the knowledge graph.'], 'document_retrieval': \"A SQL injection attack is a type of cyber attack where an attacker injects malicious SQL code into a web application's database to extract or modify sensitive data, or to disrupt the application's functionality.\\n\\nHere's a simplified explanation of how a SQL injection attack works:\\n\\n1. **Vulnerable application**: A web application uses user input to construct SQL queries, without properly validating or sanitizing the input. This allows an attacker to inject malicious SQL code.\\n2. **Malicious input**: An attacker enters malicious SQL code into the application's input field, such as a username or password field.\\n3. **SQL query construction**: The application constructs a SQL query using the user input, which includes the malicious SQL code.\\n4. **SQL injection**: The malicious SQL code is executed by the database, allowing the attacker to extract or modify sensitive data, or to disrupt the application's functionality.\\n\\nTypes of SQL injection attacks:\\n\\n1. **Classic SQL injection**: The attacker injects malicious SQL code to extract sensitive data, such as passwords or credit card numbers.\\n2. **Blind SQL injection**: The attacker injects malicious SQL code to extract sensitive data, but the application does not provide any feedback or error messages.\\n3. **Time-based SQL injection**: The attacker injects malicious SQL code to extract sensitive data, using time-based differences in the application's response.\\n4. **Boolean-based SQL injection**: The attacker injects malicious SQL code to extract sensitive data, using boolean logic to determine the presence or absence of certain data.\\n\\nCommon techniques used in SQL injection attacks:\\n\\n1. **Union operator**: The attacker uses the union operator to combine the results of two or more SQL queries.\\n2. **Comment injection**: The attacker uses comments to hide malicious SQL code.\\n3. **Error-based SQL injection**: The attacker uses error messages to extract sensitive data.\\n4. **Out-of-band SQL injection**: The attacker uses out-of-band communication channels, such as email or file uploads, to extract sensitive data.\\n\\nTo prevent SQL injection attacks, it's essential to:\\n\\n1. **Use parameterized queries**: Use parameterized queries to separate the SQL code from the user input.\\n2. **Validate user input**: Validate user input to prevent malicious SQL code from being injected.\\n3. **Use prepared statements**: Use prepared statements to prevent SQL injection attacks.\\n4. **Implement input validation**: Implement input validation to prevent malicious SQL code from being injected.\\n5. **Regularly update and patch**: Regularly update and patch the application and database to prevent known vulnerabilities.\"}\n",
            "Enter your feedback (good, bad, needs improvement, or skip): good\n",
            "Feedback recorded successfully!\n",
            "Enter your cybersecurity query (or type 'exit' to quit): what are Insider Threat\n",
            "Query Classification: Unknown Category\n",
            "Knowledge Graph Results:\n",
            "['No relevant threats or vulnerabilities found in the knowledge graph.']\n"
          ]
        },
        {
          "output_type": "stream",
          "name": "stderr",
          "text": [
            "<ipython-input-13-db9d15b26f86>:6: LangChainDeprecationWarning: Default values for HuggingFaceEmbeddings.model_name were deprecated in LangChain 0.2.16 and will be removed in 0.4.0. Explicitly pass a model_name to the HuggingFaceEmbeddings constructor instead.\n",
            "  embeddings = HuggingFaceEmbeddings()\n"
          ]
        },
        {
          "name": "stdout",
          "output_type": "stream",
          "text": [
            "Document Retrieval Results:\n",
            "An insider threat is a type of cyber threat that originates from within an organization, typically from an authorized individual who has access to sensitive information or systems. Insider threats can be intentional or unintentional, and they can cause significant damage to an organization's security, reputation, and bottom line.\n",
            "\n",
            "Types of Insider Threats:\n",
            "\n",
            "1. **Malicious Insider**: A malicious insider is an individual who intentionally causes harm to the organization by stealing sensitive information, sabotaging systems, or disrupting operations.\n",
            "2. **Negligent Insider**: A negligent insider is an individual who unintentionally causes harm to the organization by failing to follow security policies, procedures, or best practices.\n",
            "3. **Accidental Insider**: An accidental insider is an individual who unintentionally causes harm to the organization by making a mistake or clicking on a malicious link.\n",
            "4. **Compromised Insider**: A compromised insider is an individual who has been coerced or manipulated into causing harm to the organization.\n",
            "\n",
            "Causes of Insider Threats:\n",
            "\n",
            "1. **Financial Motivation**: Insider threats can be motivated by financial gain, such as stealing sensitive information or selling it to the highest bidder.\n",
            "2. **Revenge**: Insider threats can be motivated by a desire for revenge against the organization or its employees.\n",
            "3. **Personal Gain**: Insider threats can be motivated by a desire for personal gain, such as accessing sensitive information or systems for personal use.\n",
            "4. **Carelessness**: Insider threats can be caused by carelessness or negligence, such as failing to follow security policies or procedures.\n",
            "\n",
            "Indicators of Insider Threats:\n",
            "\n",
            "1. **Unusual Login Activity**: Unusual login activity, such as logins from unexpected locations or times, can indicate an insider threat.\n",
            "2. **Data Access**: Unusual data access, such as accessing sensitive information or systems without authorization, can indicate an insider threat.\n",
            "3. **System Changes**: Unusual system changes, such as modifying security settings or installing malicious software, can indicate an insider threat.\n",
            "4. **Behavioral Changes**: Changes in behavior, such as increased stress or anxiety, can indicate an insider threat.\n",
            "\n",
            "Prevention and Detection of Insider Threats:\n",
            "\n",
            "1. **Background Checks**: Conduct thorough background checks on employees and contractors to identify potential insider threats.\n",
            "2. **Security Awareness Training**: Provide regular security awareness training to employees to educate them on insider threat risks and prevention measures.\n",
            "3. **Access Control**: Implement strict access controls to limit access to sensitive information and systems.\n",
            "4. **Monitoring**: Implement monitoring systems to detect unusual activity and behavior.\n",
            "5. **Incident Response**: Develop an incident response plan to quickly respond to insider threat incidents.\n",
            "\n",
            "Mitigation and Response to Insider Threats:\n",
            "\n",
            "1. **Containment**: Contain the insider threat by limiting access to sensitive information and systems.\n",
            "2. **Eradication**: Eradicate the insider threat by removing malicious software or data.\n",
            "3. **Recovery**: Recover from the insider threat incident by restoring systems and data.\n",
            "4. **Lessons Learned**: Conduct a post-incident review to identify lessons learned and implement changes to prevent similar incidents in the future.\n",
            "\n",
            "In summary, insider threats are a significant risk to organizations, and prevention, detection, and mitigation are essential to protecting against these threats.\n",
            "\n",
            "Response:\n",
            "{'classification': 'Unknown Category', 'knowledge_graph': ['No relevant threats or vulnerabilities found in the knowledge graph.'], 'document_retrieval': \"An insider threat is a type of cyber threat that originates from within an organization, typically from an authorized individual who has access to sensitive information or systems. Insider threats can be intentional or unintentional, and they can cause significant damage to an organization's security, reputation, and bottom line.\\n\\nTypes of Insider Threats:\\n\\n1. **Malicious Insider**: A malicious insider is an individual who intentionally causes harm to the organization by stealing sensitive information, sabotaging systems, or disrupting operations.\\n2. **Negligent Insider**: A negligent insider is an individual who unintentionally causes harm to the organization by failing to follow security policies, procedures, or best practices.\\n3. **Accidental Insider**: An accidental insider is an individual who unintentionally causes harm to the organization by making a mistake or clicking on a malicious link.\\n4. **Compromised Insider**: A compromised insider is an individual who has been coerced or manipulated into causing harm to the organization.\\n\\nCauses of Insider Threats:\\n\\n1. **Financial Motivation**: Insider threats can be motivated by financial gain, such as stealing sensitive information or selling it to the highest bidder.\\n2. **Revenge**: Insider threats can be motivated by a desire for revenge against the organization or its employees.\\n3. **Personal Gain**: Insider threats can be motivated by a desire for personal gain, such as accessing sensitive information or systems for personal use.\\n4. **Carelessness**: Insider threats can be caused by carelessness or negligence, such as failing to follow security policies or procedures.\\n\\nIndicators of Insider Threats:\\n\\n1. **Unusual Login Activity**: Unusual login activity, such as logins from unexpected locations or times, can indicate an insider threat.\\n2. **Data Access**: Unusual data access, such as accessing sensitive information or systems without authorization, can indicate an insider threat.\\n3. **System Changes**: Unusual system changes, such as modifying security settings or installing malicious software, can indicate an insider threat.\\n4. **Behavioral Changes**: Changes in behavior, such as increased stress or anxiety, can indicate an insider threat.\\n\\nPrevention and Detection of Insider Threats:\\n\\n1. **Background Checks**: Conduct thorough background checks on employees and contractors to identify potential insider threats.\\n2. **Security Awareness Training**: Provide regular security awareness training to employees to educate them on insider threat risks and prevention measures.\\n3. **Access Control**: Implement strict access controls to limit access to sensitive information and systems.\\n4. **Monitoring**: Implement monitoring systems to detect unusual activity and behavior.\\n5. **Incident Response**: Develop an incident response plan to quickly respond to insider threat incidents.\\n\\nMitigation and Response to Insider Threats:\\n\\n1. **Containment**: Contain the insider threat by limiting access to sensitive information and systems.\\n2. **Eradication**: Eradicate the insider threat by removing malicious software or data.\\n3. **Recovery**: Recover from the insider threat incident by restoring systems and data.\\n4. **Lessons Learned**: Conduct a post-incident review to identify lessons learned and implement changes to prevent similar incidents in the future.\\n\\nIn summary, insider threats are a significant risk to organizations, and prevention, detection, and mitigation are essential to protecting against these threats.\"}\n",
            "Enter your feedback (good, bad, needs improvement, or skip): bad\n",
            "Feedback recorded successfully!\n",
            "Enter your cybersecurity query (or type 'exit' to quit): exit\n"
          ]
        }
      ]
    },
    {
      "cell_type": "code",
      "source": [],
      "metadata": {
        "id": "r-4G1Kq0o-Mx"
      },
      "execution_count": null,
      "outputs": []
    }
  ]
}