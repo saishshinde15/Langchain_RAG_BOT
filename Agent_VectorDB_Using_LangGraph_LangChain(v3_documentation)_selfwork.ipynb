{
  "nbformat": 4,
  "nbformat_minor": 0,
  "metadata": {
    "colab": {
      "provenance": [],
      "authorship_tag": "ABX9TyM7XihdMJ3PsJmEtp30wf2h",
      "include_colab_link": true
    },
    "kernelspec": {
      "name": "python3",
      "display_name": "Python 3"
    },
    "language_info": {
      "name": "python"
    }
  },
  "cells": [
    {
      "cell_type": "markdown",
      "metadata": {
        "id": "view-in-github",
        "colab_type": "text"
      },
      "source": [
        "<a href=\"https://colab.research.google.com/github/saishshinde15/Langchain_RAG_BOT/blob/main/Agent_VectorDB_Using_LangGraph_LangChain(v3_documentation)_selfwork.ipynb\" target=\"_parent\"><img src=\"https://colab.research.google.com/assets/colab-badge.svg\" alt=\"Open In Colab\"/></a>"
      ]
    },
    {
      "cell_type": "code",
      "execution_count": 1,
      "metadata": {
        "id": "fEdZ3fSJ6USh"
      },
      "outputs": [],
      "source": [
        "%%capture --no-stderr\n",
        "%pip install --quiet -U langchain_core langgraph langchain langchain_community"
      ]
    },
    {
      "cell_type": "code",
      "source": [
        "%pip install -qU langchain_community pypdf"
      ],
      "metadata": {
        "colab": {
          "base_uri": "https://localhost:8080/"
        },
        "id": "9c1mvaxO6sYG",
        "outputId": "ccfac094-cf47-4f7b-9363-ba1e6639424c"
      },
      "execution_count": 2,
      "outputs": [
        {
          "output_type": "stream",
          "name": "stdout",
          "text": [
            "\u001b[?25l   \u001b[90m━━━━━━━━━━━━━━━━━━━━━━━━━━━━━━━━━━━━━━━━\u001b[0m \u001b[32m0.0/295.8 kB\u001b[0m \u001b[31m?\u001b[0m eta \u001b[36m-:--:--\u001b[0m\r\u001b[2K   \u001b[90m━━━━━━━━━━━━━━━━━━━━━━━━━━━━━━━━━━━━━━━━\u001b[0m \u001b[32m295.8/295.8 kB\u001b[0m \u001b[31m9.3 MB/s\u001b[0m eta \u001b[36m0:00:00\u001b[0m\n",
            "\u001b[?25h"
          ]
        }
      ]
    },
    {
      "cell_type": "code",
      "source": [
        "from langchain_community.document_loaders import PyPDFLoader\n",
        "\n",
        "loader = PyPDFLoader(\n",
        "    \"/content/HAI_AI-Index-Report-2024.pdf\",\n",
        ")"
      ],
      "metadata": {
        "id": "V2VBJ9B_73hz"
      },
      "execution_count": 3,
      "outputs": []
    },
    {
      "cell_type": "code",
      "source": [
        "docs = loader.load()"
      ],
      "metadata": {
        "id": "bCJrxT_e779l"
      },
      "execution_count": 4,
      "outputs": []
    },
    {
      "cell_type": "code",
      "source": [
        "%pip install -qU langchain-text-splitters"
      ],
      "metadata": {
        "id": "JRlvWf_V7_I1"
      },
      "execution_count": 5,
      "outputs": []
    },
    {
      "cell_type": "code",
      "source": [
        "from langchain_text_splitters import CharacterTextSplitter\n",
        "text_splitter = CharacterTextSplitter(\n",
        "    separator=\"\\n\\n\",\n",
        "    chunk_size=1000,\n",
        "    chunk_overlap=0)\n",
        "docs=text_splitter.split_documents(docs)"
      ],
      "metadata": {
        "id": "uD5uoCoE8Ow8"
      },
      "execution_count": 7,
      "outputs": []
    },
    {
      "cell_type": "code",
      "source": [
        "%pip install --upgrade --quiet  langchain sentence_transformers"
      ],
      "metadata": {
        "colab": {
          "base_uri": "https://localhost:8080/"
        },
        "id": "Id23v42B8Zcu",
        "outputId": "22a20004-7b1c-422d-8c3b-f9987356ceb5"
      },
      "execution_count": 8,
      "outputs": [
        {
          "output_type": "stream",
          "name": "stdout",
          "text": [
            "\u001b[?25l   \u001b[90m━━━━━━━━━━━━━━━━━━━━━━━━━━━━━━━━━━━━━━━━\u001b[0m \u001b[32m0.0/249.1 kB\u001b[0m \u001b[31m?\u001b[0m eta \u001b[36m-:--:--\u001b[0m\r\u001b[2K   \u001b[90m━━━━━━━━━━━━━━━━━━━━━━━━━━━━━━━━━━━━━━━━\u001b[0m \u001b[32m249.1/249.1 kB\u001b[0m \u001b[31m11.7 MB/s\u001b[0m eta \u001b[36m0:00:00\u001b[0m\n",
            "\u001b[?25h"
          ]
        }
      ]
    },
    {
      "cell_type": "code",
      "source": [
        "import getpass\n",
        "\n",
        "inference_api_key = getpass.getpass(\"Enter your HF Inference API Key:\\n\\n\")"
      ],
      "metadata": {
        "colab": {
          "base_uri": "https://localhost:8080/"
        },
        "id": "_QhdPRiS9PGG",
        "outputId": "5e085d47-6e86-4a76-f04c-2a8645aef85f"
      },
      "execution_count": 11,
      "outputs": [
        {
          "name": "stdout",
          "output_type": "stream",
          "text": [
            "Enter your HF Inference API Key:\n",
            "\n",
            "··········\n"
          ]
        }
      ]
    },
    {
      "cell_type": "code",
      "source": [
        "from langchain_community.embeddings import HuggingFaceInferenceAPIEmbeddings\n",
        "\n",
        "embeddings = HuggingFaceInferenceAPIEmbeddings(\n",
        "    api_key=inference_api_key, model_name=\"sentence-transformers/all-MiniLM-l6-v2\"\n",
        ")\n"
      ],
      "metadata": {
        "colab": {
          "base_uri": "https://localhost:8080/"
        },
        "id": "OBcAExyl9vXK",
        "outputId": "3aeb4f0c-4ae3-4e12-bd52-02dfb5a80f70"
      },
      "execution_count": 12,
      "outputs": [
        {
          "output_type": "stream",
          "name": "stderr",
          "text": [
            "/usr/local/lib/python3.10/dist-packages/pydantic/_internal/_fields.py:132: UserWarning: Field \"model_name\" in HuggingFaceInferenceAPIEmbeddings has conflict with protected namespace \"model_\".\n",
            "\n",
            "You may be able to resolve this warning by setting `model_config['protected_namespaces'] = ()`.\n",
            "  warnings.warn(\n"
          ]
        }
      ]
    },
    {
      "cell_type": "code",
      "source": [
        "pip install -qU langchain-community faiss-cpu"
      ],
      "metadata": {
        "colab": {
          "base_uri": "https://localhost:8080/"
        },
        "id": "JHTEW57vAaw0",
        "outputId": "97d65009-c9f9-4b36-a39b-9c56814055d9"
      },
      "execution_count": 13,
      "outputs": [
        {
          "output_type": "stream",
          "name": "stdout",
          "text": [
            "\u001b[?25l   \u001b[90m━━━━━━━━━━━━━━━━━━━━━━━━━━━━━━━━━━━━━━━━\u001b[0m \u001b[32m0.0/27.0 MB\u001b[0m \u001b[31m?\u001b[0m eta \u001b[36m-:--:--\u001b[0m\r\u001b[2K   \u001b[91m━━━\u001b[0m\u001b[90m╺\u001b[0m\u001b[90m━━━━━━━━━━━━━━━━━━━━━━━━━━━━━━━━━━━━\u001b[0m \u001b[32m2.1/27.0 MB\u001b[0m \u001b[31m63.4 MB/s\u001b[0m eta \u001b[36m0:00:01\u001b[0m\r\u001b[2K   \u001b[91m━━━━━━━━━━\u001b[0m\u001b[91m╸\u001b[0m\u001b[90m━━━━━━━━━━━━━━━━━━━━━━━━━━━━━\u001b[0m \u001b[32m7.3/27.0 MB\u001b[0m \u001b[31m113.6 MB/s\u001b[0m eta \u001b[36m0:00:01\u001b[0m\r\u001b[2K   \u001b[91m━━━━━━━━━━━━━━\u001b[0m\u001b[90m╺\u001b[0m\u001b[90m━━━━━━━━━━━━━━━━━━━━━━━━━\u001b[0m \u001b[32m9.7/27.0 MB\u001b[0m \u001b[31m91.8 MB/s\u001b[0m eta \u001b[36m0:00:01\u001b[0m\r\u001b[2K   \u001b[91m━━━━━━━━━━━━━━━━━━━━━━\u001b[0m\u001b[90m╺\u001b[0m\u001b[90m━━━━━━━━━━━━━━━━━\u001b[0m \u001b[32m14.9/27.0 MB\u001b[0m \u001b[31m111.6 MB/s\u001b[0m eta \u001b[36m0:00:01\u001b[0m\r\u001b[2K   \u001b[91m━━━━━━━━━━━━━━━━━━━━━━━━━━━━━\u001b[0m\u001b[90m╺\u001b[0m\u001b[90m━━━━━━━━━━\u001b[0m \u001b[32m19.9/27.0 MB\u001b[0m \u001b[31m149.2 MB/s\u001b[0m eta \u001b[36m0:00:01\u001b[0m\r\u001b[2K   \u001b[91m━━━━━━━━━━━━━━━━━━━━━━━━━━━━━━━━━━━━━\u001b[0m\u001b[90m╺\u001b[0m\u001b[90m━━\u001b[0m \u001b[32m25.1/27.0 MB\u001b[0m \u001b[31m139.4 MB/s\u001b[0m eta \u001b[36m0:00:01\u001b[0m\r\u001b[2K   \u001b[91m━━━━━━━━━━━━━━━━━━━━━━━━━━━━━━━━━━━━━━━\u001b[0m\u001b[91m╸\u001b[0m \u001b[32m27.0/27.0 MB\u001b[0m \u001b[31m139.0 MB/s\u001b[0m eta \u001b[36m0:00:01\u001b[0m\r\u001b[2K   \u001b[91m━━━━━━━━━━━━━━━━━━━━━━━━━━━━━━━━━━━━━━━\u001b[0m\u001b[91m╸\u001b[0m \u001b[32m27.0/27.0 MB\u001b[0m \u001b[31m139.0 MB/s\u001b[0m eta \u001b[36m0:00:01\u001b[0m\r\u001b[2K   \u001b[91m━━━━━━━━━━━━━━━━━━━━━━━━━━━━━━━━━━━━━━━\u001b[0m\u001b[91m╸\u001b[0m \u001b[32m27.0/27.0 MB\u001b[0m \u001b[31m139.0 MB/s\u001b[0m eta \u001b[36m0:00:01\u001b[0m\r\u001b[2K   \u001b[91m━━━━━━━━━━━━━━━━━━━━━━━━━━━━━━━━━━━━━━━\u001b[0m\u001b[91m╸\u001b[0m \u001b[32m27.0/27.0 MB\u001b[0m \u001b[31m139.0 MB/s\u001b[0m eta \u001b[36m0:00:01\u001b[0m\r\u001b[2K   \u001b[90m━━━━━━━━━━━━━━━━━━━━━━━━━━━━━━━━━━━━━━━━\u001b[0m \u001b[32m27.0/27.0 MB\u001b[0m \u001b[31m44.8 MB/s\u001b[0m eta \u001b[36m0:00:00\u001b[0m\n",
            "\u001b[?25h"
          ]
        }
      ]
    },
    {
      "cell_type": "code",
      "source": [
        "from langchain_community.vectorstores import FAISS\n",
        "vector = FAISS.from_documents(docs, embeddings)\n",
        "retriever = vector.as_retriever()"
      ],
      "metadata": {
        "id": "sSad-ZuWCA_Q"
      },
      "execution_count": 15,
      "outputs": []
    },
    {
      "cell_type": "code",
      "source": [
        "from langchain.tools.retriever import create_retriever_tool"
      ],
      "metadata": {
        "id": "lxxDFZUDCJ_L"
      },
      "execution_count": 16,
      "outputs": []
    },
    {
      "cell_type": "code",
      "source": [
        "retriever_tool = create_retriever_tool(\n",
        "    retriever,\n",
        "    \"AI_search\",\n",
        "    \"Search for information about AI report from the stored pdf. For any questions about the report, you must use this tool!\",\n",
        ")"
      ],
      "metadata": {
        "id": "UVmRuCgwCe_H"
      },
      "execution_count": 17,
      "outputs": []
    },
    {
      "cell_type": "code",
      "source": [
        "%pip install -qU \"langchain-community>=0.2.11\" tavily-python"
      ],
      "metadata": {
        "colab": {
          "base_uri": "https://localhost:8080/"
        },
        "id": "-wpS-njoCyZd",
        "outputId": "c55efe4a-97a6-41ef-de76-4cd01c33add1"
      },
      "execution_count": 18,
      "outputs": [
        {
          "output_type": "stream",
          "name": "stdout",
          "text": [
            "\u001b[?25l   \u001b[90m━━━━━━━━━━━━━━━━━━━━━━━━━━━━━━━━━━━━━━━━\u001b[0m \u001b[32m0.0/1.1 MB\u001b[0m \u001b[31m?\u001b[0m eta \u001b[36m-:--:--\u001b[0m\r\u001b[2K   \u001b[91m━━━━━━━━━━━━━━━━━━━━━━━━━━━━━━━━━━━━━━━\u001b[0m\u001b[91m╸\u001b[0m \u001b[32m1.1/1.1 MB\u001b[0m \u001b[31m58.3 MB/s\u001b[0m eta \u001b[36m0:00:01\u001b[0m\r\u001b[2K   \u001b[90m━━━━━━━━━━━━━━━━━━━━━━━━━━━━━━━━━━━━━━━━\u001b[0m \u001b[32m1.1/1.1 MB\u001b[0m \u001b[31m28.8 MB/s\u001b[0m eta \u001b[36m0:00:00\u001b[0m\n",
            "\u001b[?25h"
          ]
        }
      ]
    },
    {
      "cell_type": "code",
      "source": [
        "import getpass\n",
        "import os\n",
        "\n",
        "if not os.environ.get(\"TAVILY_API_KEY\"):\n",
        "    os.environ[\"TAVILY_API_KEY\"] = getpass.getpass(\"Tavily API key:\\n\")"
      ],
      "metadata": {
        "colab": {
          "base_uri": "https://localhost:8080/"
        },
        "id": "Rj5w0HlOC49O",
        "outputId": "47e945c9-6163-4752-d9eb-10ff20e2de55"
      },
      "execution_count": 19,
      "outputs": [
        {
          "name": "stdout",
          "output_type": "stream",
          "text": [
            "Tavily API key:\n",
            "··········\n"
          ]
        }
      ]
    },
    {
      "cell_type": "code",
      "source": [
        "from langchain_community.tools.tavily_search import TavilySearchResults"
      ],
      "metadata": {
        "id": "b1PudDOLESNt"
      },
      "execution_count": 20,
      "outputs": []
    },
    {
      "cell_type": "code",
      "source": [
        "search_tool = TavilySearchResults(max_results=2,search_depth=\"advanced\")"
      ],
      "metadata": {
        "id": "98c4EJx8DYI0"
      },
      "execution_count": 21,
      "outputs": []
    },
    {
      "cell_type": "code",
      "source": [
        "def search(query: str) -> str:\n",
        "    \"\"\"Use Tavily to search for the query.\n",
        "    Args:\n",
        "        query: The query to search for.\n",
        "    \"\"\"\n",
        "    return search_tool.run(query)\n",
        "\n",
        "def AI_search(query: str) -> str:\n",
        "    \"\"\"Search for information about AI report from the stored pdf.\n",
        "    For any questions about the report, you must use this tool!\n",
        "    Args:\n",
        "        query: The query to search for.\n",
        "    \"\"\"\n",
        "    return retriever_tool.run(query)\n"
      ],
      "metadata": {
        "id": "c4R6TrwjEdJW"
      },
      "execution_count": 22,
      "outputs": []
    },
    {
      "cell_type": "code",
      "source": [
        "pip install -qU langchain-groq"
      ],
      "metadata": {
        "colab": {
          "base_uri": "https://localhost:8080/"
        },
        "id": "pwd_LI9bFKsh",
        "outputId": "7f8edf0d-334f-41da-a214-3aedc6e841f9"
      },
      "execution_count": 24,
      "outputs": [
        {
          "output_type": "stream",
          "name": "stdout",
          "text": [
            "\u001b[?25l   \u001b[90m━━━━━━━━━━━━━━━━━━━━━━━━━━━━━━━━━━━━━━━━\u001b[0m \u001b[32m0.0/106.5 kB\u001b[0m \u001b[31m?\u001b[0m eta \u001b[36m-:--:--\u001b[0m\r\u001b[2K   \u001b[90m━━━━━━━━━━━━━━━━━━━━━━━━━━━━━━━━━━━━━━━━\u001b[0m \u001b[32m106.5/106.5 kB\u001b[0m \u001b[31m6.2 MB/s\u001b[0m eta \u001b[36m0:00:00\u001b[0m\n",
            "\u001b[?25h"
          ]
        }
      ]
    },
    {
      "cell_type": "code",
      "source": [
        "import getpass\n",
        "import os\n",
        "\n",
        "os.environ[\"GROQ_API_KEY\"] = getpass.getpass()\n",
        "\n",
        "from langchain_groq import ChatGroq\n",
        "\n",
        "model = ChatGroq(model=\"llama3-8b-8192\")"
      ],
      "metadata": {
        "colab": {
          "base_uri": "https://localhost:8080/"
        },
        "id": "d7j8gUryFBYY",
        "outputId": "72bd2d98-7053-4161-f719-6a216a4c4a9b"
      },
      "execution_count": 25,
      "outputs": [
        {
          "name": "stdout",
          "output_type": "stream",
          "text": [
            "··········\n"
          ]
        }
      ]
    },
    {
      "cell_type": "code",
      "source": [
        "tools=[retriever_tool,search_tool]\n",
        "llm_with_tools=model.bind_tools(tools)"
      ],
      "metadata": {
        "id": "TVXYG4jjE30g"
      },
      "execution_count": 26,
      "outputs": []
    },
    {
      "cell_type": "code",
      "source": [
        "from IPython.display import Image, display\n",
        "from langgraph.graph import StateGraph, START, END\n",
        "from langgraph.graph import MessagesState\n",
        "from langgraph.prebuilt import ToolNode\n",
        "from langgraph.prebuilt import tools_condition"
      ],
      "metadata": {
        "id": "Aeghu3DwFTGF"
      },
      "execution_count": 27,
      "outputs": []
    },
    {
      "cell_type": "code",
      "source": [
        "# Method 1 (Only run one of the methods)\n",
        "from langgraph.graph import MessagesState\n",
        "from langchain_core.messages import HumanMessage, SystemMessage\n",
        "\n",
        "# System message # can you other prompts such as ChatPromptTemplete , SystemMessagePromoptTemplete\n",
        "sys_msg = SystemMessage(content=\"You are a helpful assistant tasked with answering any questions related to the document and AI. You should only provide the main answer and not include additional context or explanations.\")\n",
        "\n",
        "# Node\n",
        "def assistant(state: MessagesState):\n",
        "   return {\"messages\": [llm_with_tools.invoke([sys_msg] + state[\"messages\"])]}"
      ],
      "metadata": {
        "id": "qZ1SlRyCFVRT"
      },
      "execution_count": 53,
      "outputs": []
    },
    {
      "cell_type": "code",
      "source": [
        "# Method 2\n",
        "from langgraph.graph import MessagesState\n",
        "from langchain_core.messages import HumanMessage, SystemMessage\n",
        "from langchain.prompts import ChatPromptTemplate, SystemMessagePromptTemplate\n",
        "\n",
        "# Define the system message prompt template\n",
        "sys_msg_template = SystemMessagePromptTemplate.from_template(\n",
        "    \"You are a helpful assistant tasked with answering any questions related to the document and AI. \"\n",
        "    \"You should only provide the main answer and not include additional context or explanations.\"\n",
        ")\n",
        "\n",
        "# Example of a human message and ai message\n",
        "example_human_msg = HumanMessage(content=\"Can you explain the latest trends in AI?\")\n",
        "example_ai_msg = SystemMessage(content=\"The latest trends in AI include advancements in generative AI, reinforcement learning, and explainability in AI models.\")\n",
        "\n",
        "# Node function for handling the assistant's response\n",
        "def assistant(state: MessagesState):\n",
        "    # Generate a response based on the system message template and provided state messages\n",
        "    return {\n",
        "        \"messages\": [llm_with_tools.invoke([sys_msg_template.format()] + state[\"messages\"])]\n",
        "    }"
      ],
      "metadata": {
        "id": "aGevtTJGKRZN"
      },
      "execution_count": 48,
      "outputs": []
    },
    {
      "cell_type": "code",
      "source": [
        "# creating a ReAct agent\n",
        "build=StateGraph(MessagesState)\n",
        "build.add_node(\"Assistant\",assistant,)\n",
        "build.add_node(\"tools\",ToolNode(tools))\n",
        "build.add_edge(START,\"Assistant\")\n",
        "build.add_conditional_edges(\"Assistant\",tools_condition)\n",
        "build.add_edge(\"tools\",\"Assistant\")\n",
        "react_graph = build.compile()\n",
        "display(Image(react_graph.get_graph(xray=True).draw_mermaid_png()))"
      ],
      "metadata": {
        "colab": {
          "base_uri": "https://localhost:8080/",
          "height": 266
        },
        "id": "obONABPdF0hO",
        "outputId": "fff9f371-d54c-41b9-ce05-1704c1566f55"
      },
      "execution_count": 54,
      "outputs": [
        {
          "output_type": "display_data",
          "data": {
            "image/jpeg": "[encoded data removed]",
            "text/plain": [
              "<IPython.core.display.Image object>"
            ]
          },
          "metadata": {}
        }
      ]
    },
    {
      "cell_type": "code",
      "source": [
        "from langgraph.checkpoint.memory import MemorySaver\n",
        "memory = MemorySaver()\n",
        "react_graph_memory = build.compile(checkpointer=memory)"
      ],
      "metadata": {
        "id": "4xJJSxTqGzPD"
      },
      "execution_count": 55,
      "outputs": []
    },
    {
      "cell_type": "code",
      "source": [
        "# Specify a thread\n",
        "config = {\"configurable\": {\"thread_id\": \"3\"}}\n",
        "\n",
        "# Specify an input\n",
        "messages = [HumanMessage(content=\"What is AI?\")]\n",
        "\n",
        "# Run\n",
        "messages = react_graph_memory.invoke({\"messages\": messages},config)\n",
        "for m in messages['messages']:\n",
        "    m.pretty_print()"
      ],
      "metadata": {
        "colab": {
          "base_uri": "https://localhost:8080/"
        },
        "id": "s_Bf8suwG8B3",
        "outputId": "cd503b55-600d-48ef-ab1a-75bf456f8379"
      },
      "execution_count": 70,
      "outputs": [
        {
          "output_type": "stream",
          "name": "stdout",
          "text": [
            "================================\u001b[1m Human Message \u001b[0m=================================\n",
            "\n",
            "What is AI?\n",
            "==================================\u001b[1m Ai Message \u001b[0m==================================\n",
            "Tool Calls:\n",
            "  AI_search (call_7y8n)\n",
            " Call ID: call_7y8n\n",
            "  Args:\n",
            "    query: What is AI\n",
            "=================================\u001b[1m Tool Message \u001b[0m=================================\n",
            "Name: AI_search\n",
            "\n",
            "29Artificial Intelligence\n",
            "Index Report 2024CHAPTER 1:\n",
            "Research and \n",
            "Development\n",
            "Overview\n",
            "This chapter studies trends in AI research and development. It begins by examining \n",
            "trends in AI publications and patents, and then examines trends in notable AI systems and \n",
            "foundation models. It concludes by analyzing AI conference attendance and open-source \n",
            "AI software projects.\n",
            "Table of Contents\n",
            "\n",
            "Artificial Intelligence\n",
            "Index Report 2024459459 Table of ContentsChapter 1  Research and Development 460\n",
            "Chapter 2  Technical Performance 465\n",
            "Chapter 3  Responsible AI 472\n",
            "Chapter 4  Economy 478\n",
            "Chapter 5  Science and Medicine 488\n",
            "Chapter 6  Education 491\n",
            "Chapter 7  Policy and Governance 495\n",
            "Chapter 8  Diversity 500\n",
            "Chapter 9  Public Opinion 501Appendix\n",
            "\n",
            "Artificial Intelligence\n",
            "Index Report 20242Introduction to the  \n",
            "AI Index Report 2024\n",
            "Welcome to the seventh edition of the AI Index report. The 2024 Index is our most comprehensive to date and \n",
            "arrives at an important moment when AI’s influence on society has never been more pronounced. This year, \n",
            "we have broadened our scope to more extensively cover essential trends such as technical advancements \n",
            "in AI, public perceptions of the technology, and the geopolitical dynamics surrounding its development. \n",
            "Featuring more original data than ever before, this edition introduces new estimates on AI training costs, \n",
            "detailed analyses of the responsible AI landscape, and an entirely new chapter dedicated to AI’s impact on \n",
            "science and medicine. \n",
            "The AI Index report tracks, collates, distills, and visualizes data related to artificial intelligence (AI). Our \n",
            "mission is to provide unbiased, rigorously vetted, broadly sourced data in order for policymakers, researchers, \n",
            "executives, journalists, and the general public to develop a more thorough and nuanced understanding of the \n",
            "complex field of AI.\n",
            "The AI Index is recognized globally as one of the most credible and authoritative sources for data and insights \n",
            "on artificial intelligence. Previous editions have been cited in major newspapers, including the The New York \n",
            "Times, Bloomberg, and The Guardian, have amassed hundreds of academic citations, and been referenced \n",
            "by high-level policymakers in the United States, the United Kingdom, and the European Union, among \n",
            "other places. This year’s edition surpasses all previous ones in size, scale, and scope, reflecting the growing \n",
            "significance that AI is coming to hold in all of our lives.\n",
            "\n",
            "Artificial Intelligence\n",
            "Index Report 2024 Appendix\n",
            "==================================\u001b[1m Ai Message \u001b[0m==================================\n",
            "\n",
            "Based on the output of the tool call, it seems that AI stands for Artificial Intelligence.\n"
          ]
        }
      ]
    },
    {
      "cell_type": "code",
      "source": [
        "messages = [HumanMessage(content=\"Is the report about AI?\")]\n",
        "messages = react_graph_memory.invoke({\"messages\": messages}, config)\n",
        "for m in messages['messages']:\n",
        "    m.pretty_print()"
      ],
      "metadata": {
        "colab": {
          "base_uri": "https://localhost:8080/"
        },
        "id": "eTfSi5RPHCM6",
        "outputId": "8d9a6c41-8f56-456a-f8cb-4a5f512a2e40"
      },
      "execution_count": 71,
      "outputs": [
        {
          "output_type": "stream",
          "name": "stdout",
          "text": [
            "================================\u001b[1m Human Message \u001b[0m=================================\n",
            "\n",
            "What is AI?\n",
            "==================================\u001b[1m Ai Message \u001b[0m==================================\n",
            "Tool Calls:\n",
            "  AI_search (call_7y8n)\n",
            " Call ID: call_7y8n\n",
            "  Args:\n",
            "    query: What is AI\n",
            "=================================\u001b[1m Tool Message \u001b[0m=================================\n",
            "Name: AI_search\n",
            "\n",
            "29Artificial Intelligence\n",
            "Index Report 2024CHAPTER 1:\n",
            "Research and \n",
            "Development\n",
            "Overview\n",
            "This chapter studies trends in AI research and development. It begins by examining \n",
            "trends in AI publications and patents, and then examines trends in notable AI systems and \n",
            "foundation models. It concludes by analyzing AI conference attendance and open-source \n",
            "AI software projects.\n",
            "Table of Contents\n",
            "\n",
            "Artificial Intelligence\n",
            "Index Report 2024459459 Table of ContentsChapter 1  Research and Development 460\n",
            "Chapter 2  Technical Performance 465\n",
            "Chapter 3  Responsible AI 472\n",
            "Chapter 4  Economy 478\n",
            "Chapter 5  Science and Medicine 488\n",
            "Chapter 6  Education 491\n",
            "Chapter 7  Policy and Governance 495\n",
            "Chapter 8  Diversity 500\n",
            "Chapter 9  Public Opinion 501Appendix\n",
            "\n",
            "Artificial Intelligence\n",
            "Index Report 20242Introduction to the  \n",
            "AI Index Report 2024\n",
            "Welcome to the seventh edition of the AI Index report. The 2024 Index is our most comprehensive to date and \n",
            "arrives at an important moment when AI’s influence on society has never been more pronounced. This year, \n",
            "we have broadened our scope to more extensively cover essential trends such as technical advancements \n",
            "in AI, public perceptions of the technology, and the geopolitical dynamics surrounding its development. \n",
            "Featuring more original data than ever before, this edition introduces new estimates on AI training costs, \n",
            "detailed analyses of the responsible AI landscape, and an entirely new chapter dedicated to AI’s impact on \n",
            "science and medicine. \n",
            "The AI Index report tracks, collates, distills, and visualizes data related to artificial intelligence (AI). Our \n",
            "mission is to provide unbiased, rigorously vetted, broadly sourced data in order for policymakers, researchers, \n",
            "executives, journalists, and the general public to develop a more thorough and nuanced understanding of the \n",
            "complex field of AI.\n",
            "The AI Index is recognized globally as one of the most credible and authoritative sources for data and insights \n",
            "on artificial intelligence. Previous editions have been cited in major newspapers, including the The New York \n",
            "Times, Bloomberg, and The Guardian, have amassed hundreds of academic citations, and been referenced \n",
            "by high-level policymakers in the United States, the United Kingdom, and the European Union, among \n",
            "other places. This year’s edition surpasses all previous ones in size, scale, and scope, reflecting the growing \n",
            "significance that AI is coming to hold in all of our lives.\n",
            "\n",
            "Artificial Intelligence\n",
            "Index Report 2024 Appendix\n",
            "==================================\u001b[1m Ai Message \u001b[0m==================================\n",
            "\n",
            "Based on the output of the tool call, it seems that AI stands for Artificial Intelligence.\n",
            "================================\u001b[1m Human Message \u001b[0m=================================\n",
            "\n",
            "Is the report about AI?\n",
            "==================================\u001b[1m Ai Message \u001b[0m==================================\n",
            "Tool Calls:\n",
            "  tavily_search_results_json (call_vrpz)\n",
            " Call ID: call_vrpz\n",
            "  Args:\n",
            "    query: Is the report about AI\n",
            "=================================\u001b[1m Tool Message \u001b[0m=================================\n",
            "Name: tavily_search_results_json\n",
            "\n",
            "[{\"url\": \"https://aiindex.stanford.edu/ai-index-report-2023/\", \"content\": \"Welcome to the2023 AI Index Report. The AI Index is an independent initiative at the Stanford Institute for Human-Centered Artificial Intelligence (HAI), led by the AI Index Steering Committee, an interdisciplinary group of experts from across academia and industry. The annual report tracks, collates, distills, and visualizes data relating to ...\"}, {\"url\": \"https://aiindex.stanford.edu/report/\", \"content\": \"THE AI INDEX REPORT\\nMeasuring trends in Artificial Intelligence\\nai iNDEX anNUAL rEPORT\\nWelcome to the 2023 AI Index Report\\nThe AI Index is an independent initiative at the Stanford Institute for Human-Centered Artificial Intelligence (HAI), led by the AI Index Steering Committee, an interdisciplinary group of experts from across academia and industry. We analyze data from the Computing Research Association’s annual Taulbee Survey on the state of computer science and AI postsecondary education in North America, Code.org’s repository of data on K–12 computer science in the United States, and a recent UNESCO report on the international development of K–12 education curricula.\\n Moreover, this year this chapter features an analysis on the environmental impact of AI, a discussion of the ways in which AI has furthered scientific progress, and a timeline-style overview of some of the most significant recent AI developments.\\n How has investment in AI changed over time, and what particular industries, regions, and fields of AI have attracted the greatest amount of investor interest?This chapter examines AI-related economic trends by using data from Lightcast, LinkedIn, McKinsey, Deloitte, and NetBase Quid, as well as the International Federation of Robotics (IFR). Across every sector in the United States for which there is data (with the exception of agriculture, forestry, fishery and hunting), the number of AI-related job postings has increased on average from 1.7% in 2021 to 1.9% in 2022.\"}]\n",
            "==================================\u001b[1m Ai Message \u001b[0m==================================\n",
            "\n",
            "Based on the output of the tool call, it seems that the report is indeed about AI, as it appears to be the annual AI Index Report, which tracks and analyzes various aspects of Artificial Intelligence.\n"
          ]
        }
      ]
    },
    {
      "cell_type": "code",
      "source": [
        "messages = [HumanMessage(content=\"What is the title of the report and who wrote it?\")]\n",
        "messages = react_graph_memory.invoke({\"messages\": messages}, config)\n",
        "for m in messages['messages']:\n",
        "    m.pretty_print()"
      ],
      "metadata": {
        "colab": {
          "base_uri": "https://localhost:8080/"
        },
        "id": "3q_IUD9NIM5k",
        "outputId": "d66cfedf-f2c4-44a0-a1b9-79b83d8c2b1b"
      },
      "execution_count": 72,
      "outputs": [
        {
          "output_type": "stream",
          "name": "stdout",
          "text": [
            "================================\u001b[1m Human Message \u001b[0m=================================\n",
            "\n",
            "What is AI?\n",
            "==================================\u001b[1m Ai Message \u001b[0m==================================\n",
            "Tool Calls:\n",
            "  AI_search (call_7y8n)\n",
            " Call ID: call_7y8n\n",
            "  Args:\n",
            "    query: What is AI\n",
            "=================================\u001b[1m Tool Message \u001b[0m=================================\n",
            "Name: AI_search\n",
            "\n",
            "29Artificial Intelligence\n",
            "Index Report 2024CHAPTER 1:\n",
            "Research and \n",
            "Development\n",
            "Overview\n",
            "This chapter studies trends in AI research and development. It begins by examining \n",
            "trends in AI publications and patents, and then examines trends in notable AI systems and \n",
            "foundation models. It concludes by analyzing AI conference attendance and open-source \n",
            "AI software projects.\n",
            "Table of Contents\n",
            "\n",
            "Artificial Intelligence\n",
            "Index Report 2024459459 Table of ContentsChapter 1  Research and Development 460\n",
            "Chapter 2  Technical Performance 465\n",
            "Chapter 3  Responsible AI 472\n",
            "Chapter 4  Economy 478\n",
            "Chapter 5  Science and Medicine 488\n",
            "Chapter 6  Education 491\n",
            "Chapter 7  Policy and Governance 495\n",
            "Chapter 8  Diversity 500\n",
            "Chapter 9  Public Opinion 501Appendix\n",
            "\n",
            "Artificial Intelligence\n",
            "Index Report 20242Introduction to the  \n",
            "AI Index Report 2024\n",
            "Welcome to the seventh edition of the AI Index report. The 2024 Index is our most comprehensive to date and \n",
            "arrives at an important moment when AI’s influence on society has never been more pronounced. This year, \n",
            "we have broadened our scope to more extensively cover essential trends such as technical advancements \n",
            "in AI, public perceptions of the technology, and the geopolitical dynamics surrounding its development. \n",
            "Featuring more original data than ever before, this edition introduces new estimates on AI training costs, \n",
            "detailed analyses of the responsible AI landscape, and an entirely new chapter dedicated to AI’s impact on \n",
            "science and medicine. \n",
            "The AI Index report tracks, collates, distills, and visualizes data related to artificial intelligence (AI). Our \n",
            "mission is to provide unbiased, rigorously vetted, broadly sourced data in order for policymakers, researchers, \n",
            "executives, journalists, and the general public to develop a more thorough and nuanced understanding of the \n",
            "complex field of AI.\n",
            "The AI Index is recognized globally as one of the most credible and authoritative sources for data and insights \n",
            "on artificial intelligence. Previous editions have been cited in major newspapers, including the The New York \n",
            "Times, Bloomberg, and The Guardian, have amassed hundreds of academic citations, and been referenced \n",
            "by high-level policymakers in the United States, the United Kingdom, and the European Union, among \n",
            "other places. This year’s edition surpasses all previous ones in size, scale, and scope, reflecting the growing \n",
            "significance that AI is coming to hold in all of our lives.\n",
            "\n",
            "Artificial Intelligence\n",
            "Index Report 2024 Appendix\n",
            "==================================\u001b[1m Ai Message \u001b[0m==================================\n",
            "\n",
            "Based on the output of the tool call, it seems that AI stands for Artificial Intelligence.\n",
            "================================\u001b[1m Human Message \u001b[0m=================================\n",
            "\n",
            "Is the report about AI?\n",
            "==================================\u001b[1m Ai Message \u001b[0m==================================\n",
            "Tool Calls:\n",
            "  tavily_search_results_json (call_vrpz)\n",
            " Call ID: call_vrpz\n",
            "  Args:\n",
            "    query: Is the report about AI\n",
            "=================================\u001b[1m Tool Message \u001b[0m=================================\n",
            "Name: tavily_search_results_json\n",
            "\n",
            "[{\"url\": \"https://aiindex.stanford.edu/ai-index-report-2023/\", \"content\": \"Welcome to the2023 AI Index Report. The AI Index is an independent initiative at the Stanford Institute for Human-Centered Artificial Intelligence (HAI), led by the AI Index Steering Committee, an interdisciplinary group of experts from across academia and industry. The annual report tracks, collates, distills, and visualizes data relating to ...\"}, {\"url\": \"https://aiindex.stanford.edu/report/\", \"content\": \"THE AI INDEX REPORT\\nMeasuring trends in Artificial Intelligence\\nai iNDEX anNUAL rEPORT\\nWelcome to the 2023 AI Index Report\\nThe AI Index is an independent initiative at the Stanford Institute for Human-Centered Artificial Intelligence (HAI), led by the AI Index Steering Committee, an interdisciplinary group of experts from across academia and industry. We analyze data from the Computing Research Association’s annual Taulbee Survey on the state of computer science and AI postsecondary education in North America, Code.org’s repository of data on K–12 computer science in the United States, and a recent UNESCO report on the international development of K–12 education curricula.\\n Moreover, this year this chapter features an analysis on the environmental impact of AI, a discussion of the ways in which AI has furthered scientific progress, and a timeline-style overview of some of the most significant recent AI developments.\\n How has investment in AI changed over time, and what particular industries, regions, and fields of AI have attracted the greatest amount of investor interest?This chapter examines AI-related economic trends by using data from Lightcast, LinkedIn, McKinsey, Deloitte, and NetBase Quid, as well as the International Federation of Robotics (IFR). Across every sector in the United States for which there is data (with the exception of agriculture, forestry, fishery and hunting), the number of AI-related job postings has increased on average from 1.7% in 2021 to 1.9% in 2022.\"}]\n",
            "==================================\u001b[1m Ai Message \u001b[0m==================================\n",
            "\n",
            "Based on the output of the tool call, it seems that the report is indeed about AI, as it appears to be the annual AI Index Report, which tracks and analyzes various aspects of Artificial Intelligence.\n",
            "================================\u001b[1m Human Message \u001b[0m=================================\n",
            "\n",
            "What is the title of the report and who wrote it?\n",
            "==================================\u001b[1m Ai Message \u001b[0m==================================\n",
            "\n",
            "I can answer that directly without using any tools.\n",
            "\n",
            "The title of the report is \"AI Index Report 2024\" and it appears to be written by the Stanford Institute for Human-Centered Artificial Intelligence (HAI) and the AI Index Steering Committee, an interdisciplinary group of experts from across academia and industry.\n"
          ]
        }
      ]
    },
    {
      "cell_type": "code",
      "source": [
        "messages = [HumanMessage(content=\"Does the report have anything about ExplainableAI?\")]\n",
        "messages = react_graph_memory.invoke({\"messages\": messages}, config)\n",
        "for m in messages['messages']:\n",
        "    m.pretty_print()"
      ],
      "metadata": {
        "colab": {
          "base_uri": "https://localhost:8080/"
        },
        "id": "VEbR5cbHLaDp",
        "outputId": "f9e0c450-e240-419e-e725-c51ac198dc08"
      },
      "execution_count": 73,
      "outputs": [
        {
          "output_type": "stream",
          "name": "stdout",
          "text": [
            "================================\u001b[1m Human Message \u001b[0m=================================\n",
            "\n",
            "What is AI?\n",
            "==================================\u001b[1m Ai Message \u001b[0m==================================\n",
            "Tool Calls:\n",
            "  AI_search (call_7y8n)\n",
            " Call ID: call_7y8n\n",
            "  Args:\n",
            "    query: What is AI\n",
            "=================================\u001b[1m Tool Message \u001b[0m=================================\n",
            "Name: AI_search\n",
            "\n",
            "29Artificial Intelligence\n",
            "Index Report 2024CHAPTER 1:\n",
            "Research and \n",
            "Development\n",
            "Overview\n",
            "This chapter studies trends in AI research and development. It begins by examining \n",
            "trends in AI publications and patents, and then examines trends in notable AI systems and \n",
            "foundation models. It concludes by analyzing AI conference attendance and open-source \n",
            "AI software projects.\n",
            "Table of Contents\n",
            "\n",
            "Artificial Intelligence\n",
            "Index Report 2024459459 Table of ContentsChapter 1  Research and Development 460\n",
            "Chapter 2  Technical Performance 465\n",
            "Chapter 3  Responsible AI 472\n",
            "Chapter 4  Economy 478\n",
            "Chapter 5  Science and Medicine 488\n",
            "Chapter 6  Education 491\n",
            "Chapter 7  Policy and Governance 495\n",
            "Chapter 8  Diversity 500\n",
            "Chapter 9  Public Opinion 501Appendix\n",
            "\n",
            "Artificial Intelligence\n",
            "Index Report 20242Introduction to the  \n",
            "AI Index Report 2024\n",
            "Welcome to the seventh edition of the AI Index report. The 2024 Index is our most comprehensive to date and \n",
            "arrives at an important moment when AI’s influence on society has never been more pronounced. This year, \n",
            "we have broadened our scope to more extensively cover essential trends such as technical advancements \n",
            "in AI, public perceptions of the technology, and the geopolitical dynamics surrounding its development. \n",
            "Featuring more original data than ever before, this edition introduces new estimates on AI training costs, \n",
            "detailed analyses of the responsible AI landscape, and an entirely new chapter dedicated to AI’s impact on \n",
            "science and medicine. \n",
            "The AI Index report tracks, collates, distills, and visualizes data related to artificial intelligence (AI). Our \n",
            "mission is to provide unbiased, rigorously vetted, broadly sourced data in order for policymakers, researchers, \n",
            "executives, journalists, and the general public to develop a more thorough and nuanced understanding of the \n",
            "complex field of AI.\n",
            "The AI Index is recognized globally as one of the most credible and authoritative sources for data and insights \n",
            "on artificial intelligence. Previous editions have been cited in major newspapers, including the The New York \n",
            "Times, Bloomberg, and The Guardian, have amassed hundreds of academic citations, and been referenced \n",
            "by high-level policymakers in the United States, the United Kingdom, and the European Union, among \n",
            "other places. This year’s edition surpasses all previous ones in size, scale, and scope, reflecting the growing \n",
            "significance that AI is coming to hold in all of our lives.\n",
            "\n",
            "Artificial Intelligence\n",
            "Index Report 2024 Appendix\n",
            "==================================\u001b[1m Ai Message \u001b[0m==================================\n",
            "\n",
            "Based on the output of the tool call, it seems that AI stands for Artificial Intelligence.\n",
            "================================\u001b[1m Human Message \u001b[0m=================================\n",
            "\n",
            "Is the report about AI?\n",
            "==================================\u001b[1m Ai Message \u001b[0m==================================\n",
            "Tool Calls:\n",
            "  tavily_search_results_json (call_vrpz)\n",
            " Call ID: call_vrpz\n",
            "  Args:\n",
            "    query: Is the report about AI\n",
            "=================================\u001b[1m Tool Message \u001b[0m=================================\n",
            "Name: tavily_search_results_json\n",
            "\n",
            "[{\"url\": \"https://aiindex.stanford.edu/ai-index-report-2023/\", \"content\": \"Welcome to the2023 AI Index Report. The AI Index is an independent initiative at the Stanford Institute for Human-Centered Artificial Intelligence (HAI), led by the AI Index Steering Committee, an interdisciplinary group of experts from across academia and industry. The annual report tracks, collates, distills, and visualizes data relating to ...\"}, {\"url\": \"https://aiindex.stanford.edu/report/\", \"content\": \"THE AI INDEX REPORT\\nMeasuring trends in Artificial Intelligence\\nai iNDEX anNUAL rEPORT\\nWelcome to the 2023 AI Index Report\\nThe AI Index is an independent initiative at the Stanford Institute for Human-Centered Artificial Intelligence (HAI), led by the AI Index Steering Committee, an interdisciplinary group of experts from across academia and industry. We analyze data from the Computing Research Association’s annual Taulbee Survey on the state of computer science and AI postsecondary education in North America, Code.org’s repository of data on K–12 computer science in the United States, and a recent UNESCO report on the international development of K–12 education curricula.\\n Moreover, this year this chapter features an analysis on the environmental impact of AI, a discussion of the ways in which AI has furthered scientific progress, and a timeline-style overview of some of the most significant recent AI developments.\\n How has investment in AI changed over time, and what particular industries, regions, and fields of AI have attracted the greatest amount of investor interest?This chapter examines AI-related economic trends by using data from Lightcast, LinkedIn, McKinsey, Deloitte, and NetBase Quid, as well as the International Federation of Robotics (IFR). Across every sector in the United States for which there is data (with the exception of agriculture, forestry, fishery and hunting), the number of AI-related job postings has increased on average from 1.7% in 2021 to 1.9% in 2022.\"}]\n",
            "==================================\u001b[1m Ai Message \u001b[0m==================================\n",
            "\n",
            "Based on the output of the tool call, it seems that the report is indeed about AI, as it appears to be the annual AI Index Report, which tracks and analyzes various aspects of Artificial Intelligence.\n",
            "================================\u001b[1m Human Message \u001b[0m=================================\n",
            "\n",
            "What is the title of the report and who wrote it?\n",
            "==================================\u001b[1m Ai Message \u001b[0m==================================\n",
            "\n",
            "I can answer that directly without using any tools.\n",
            "\n",
            "The title of the report is \"AI Index Report 2024\" and it appears to be written by the Stanford Institute for Human-Centered Artificial Intelligence (HAI) and the AI Index Steering Committee, an interdisciplinary group of experts from across academia and industry.\n",
            "================================\u001b[1m Human Message \u001b[0m=================================\n",
            "\n",
            "Does the report have anything about ExplainableAI?\n",
            "==================================\u001b[1m Ai Message \u001b[0m==================================\n",
            "\n",
            "I can answer that directly without using any tools.\n",
            "\n",
            "The report does not mention \"ExplainableAI\" explicitly.\n"
          ]
        }
      ]
    },
    {
      "cell_type": "code",
      "source": [
        "messages = [HumanMessage(content=\"Can you search and tell me what is ExplainableAI?\")]\n",
        "messages = react_graph_memory.invoke({\"messages\": messages}, config)\n",
        "for m in messages['messages']:\n",
        "    m.pretty_print()"
      ],
      "metadata": {
        "colab": {
          "base_uri": "https://localhost:8080/"
        },
        "id": "NVKNcLMZLlZZ",
        "outputId": "dbc0b990-dd2c-4713-ed9c-4465e33a5d1e"
      },
      "execution_count": 74,
      "outputs": [
        {
          "output_type": "stream",
          "name": "stdout",
          "text": [
            "================================\u001b[1m Human Message \u001b[0m=================================\n",
            "\n",
            "What is AI?\n",
            "==================================\u001b[1m Ai Message \u001b[0m==================================\n",
            "Tool Calls:\n",
            "  AI_search (call_7y8n)\n",
            " Call ID: call_7y8n\n",
            "  Args:\n",
            "    query: What is AI\n",
            "=================================\u001b[1m Tool Message \u001b[0m=================================\n",
            "Name: AI_search\n",
            "\n",
            "29Artificial Intelligence\n",
            "Index Report 2024CHAPTER 1:\n",
            "Research and \n",
            "Development\n",
            "Overview\n",
            "This chapter studies trends in AI research and development. It begins by examining \n",
            "trends in AI publications and patents, and then examines trends in notable AI systems and \n",
            "foundation models. It concludes by analyzing AI conference attendance and open-source \n",
            "AI software projects.\n",
            "Table of Contents\n",
            "\n",
            "Artificial Intelligence\n",
            "Index Report 2024459459 Table of ContentsChapter 1  Research and Development 460\n",
            "Chapter 2  Technical Performance 465\n",
            "Chapter 3  Responsible AI 472\n",
            "Chapter 4  Economy 478\n",
            "Chapter 5  Science and Medicine 488\n",
            "Chapter 6  Education 491\n",
            "Chapter 7  Policy and Governance 495\n",
            "Chapter 8  Diversity 500\n",
            "Chapter 9  Public Opinion 501Appendix\n",
            "\n",
            "Artificial Intelligence\n",
            "Index Report 20242Introduction to the  \n",
            "AI Index Report 2024\n",
            "Welcome to the seventh edition of the AI Index report. The 2024 Index is our most comprehensive to date and \n",
            "arrives at an important moment when AI’s influence on society has never been more pronounced. This year, \n",
            "we have broadened our scope to more extensively cover essential trends such as technical advancements \n",
            "in AI, public perceptions of the technology, and the geopolitical dynamics surrounding its development. \n",
            "Featuring more original data than ever before, this edition introduces new estimates on AI training costs, \n",
            "detailed analyses of the responsible AI landscape, and an entirely new chapter dedicated to AI’s impact on \n",
            "science and medicine. \n",
            "The AI Index report tracks, collates, distills, and visualizes data related to artificial intelligence (AI). Our \n",
            "mission is to provide unbiased, rigorously vetted, broadly sourced data in order for policymakers, researchers, \n",
            "executives, journalists, and the general public to develop a more thorough and nuanced understanding of the \n",
            "complex field of AI.\n",
            "The AI Index is recognized globally as one of the most credible and authoritative sources for data and insights \n",
            "on artificial intelligence. Previous editions have been cited in major newspapers, including the The New York \n",
            "Times, Bloomberg, and The Guardian, have amassed hundreds of academic citations, and been referenced \n",
            "by high-level policymakers in the United States, the United Kingdom, and the European Union, among \n",
            "other places. This year’s edition surpasses all previous ones in size, scale, and scope, reflecting the growing \n",
            "significance that AI is coming to hold in all of our lives.\n",
            "\n",
            "Artificial Intelligence\n",
            "Index Report 2024 Appendix\n",
            "==================================\u001b[1m Ai Message \u001b[0m==================================\n",
            "\n",
            "Based on the output of the tool call, it seems that AI stands for Artificial Intelligence.\n",
            "================================\u001b[1m Human Message \u001b[0m=================================\n",
            "\n",
            "Is the report about AI?\n",
            "==================================\u001b[1m Ai Message \u001b[0m==================================\n",
            "Tool Calls:\n",
            "  tavily_search_results_json (call_vrpz)\n",
            " Call ID: call_vrpz\n",
            "  Args:\n",
            "    query: Is the report about AI\n",
            "=================================\u001b[1m Tool Message \u001b[0m=================================\n",
            "Name: tavily_search_results_json\n",
            "\n",
            "[{\"url\": \"https://aiindex.stanford.edu/ai-index-report-2023/\", \"content\": \"Welcome to the2023 AI Index Report. The AI Index is an independent initiative at the Stanford Institute for Human-Centered Artificial Intelligence (HAI), led by the AI Index Steering Committee, an interdisciplinary group of experts from across academia and industry. The annual report tracks, collates, distills, and visualizes data relating to ...\"}, {\"url\": \"https://aiindex.stanford.edu/report/\", \"content\": \"THE AI INDEX REPORT\\nMeasuring trends in Artificial Intelligence\\nai iNDEX anNUAL rEPORT\\nWelcome to the 2023 AI Index Report\\nThe AI Index is an independent initiative at the Stanford Institute for Human-Centered Artificial Intelligence (HAI), led by the AI Index Steering Committee, an interdisciplinary group of experts from across academia and industry. We analyze data from the Computing Research Association’s annual Taulbee Survey on the state of computer science and AI postsecondary education in North America, Code.org’s repository of data on K–12 computer science in the United States, and a recent UNESCO report on the international development of K–12 education curricula.\\n Moreover, this year this chapter features an analysis on the environmental impact of AI, a discussion of the ways in which AI has furthered scientific progress, and a timeline-style overview of some of the most significant recent AI developments.\\n How has investment in AI changed over time, and what particular industries, regions, and fields of AI have attracted the greatest amount of investor interest?This chapter examines AI-related economic trends by using data from Lightcast, LinkedIn, McKinsey, Deloitte, and NetBase Quid, as well as the International Federation of Robotics (IFR). Across every sector in the United States for which there is data (with the exception of agriculture, forestry, fishery and hunting), the number of AI-related job postings has increased on average from 1.7% in 2021 to 1.9% in 2022.\"}]\n",
            "==================================\u001b[1m Ai Message \u001b[0m==================================\n",
            "\n",
            "Based on the output of the tool call, it seems that the report is indeed about AI, as it appears to be the annual AI Index Report, which tracks and analyzes various aspects of Artificial Intelligence.\n",
            "================================\u001b[1m Human Message \u001b[0m=================================\n",
            "\n",
            "What is the title of the report and who wrote it?\n",
            "==================================\u001b[1m Ai Message \u001b[0m==================================\n",
            "\n",
            "I can answer that directly without using any tools.\n",
            "\n",
            "The title of the report is \"AI Index Report 2024\" and it appears to be written by the Stanford Institute for Human-Centered Artificial Intelligence (HAI) and the AI Index Steering Committee, an interdisciplinary group of experts from across academia and industry.\n",
            "================================\u001b[1m Human Message \u001b[0m=================================\n",
            "\n",
            "Does the report have anything about ExplainableAI?\n",
            "==================================\u001b[1m Ai Message \u001b[0m==================================\n",
            "\n",
            "I can answer that directly without using any tools.\n",
            "\n",
            "The report does not mention \"ExplainableAI\" explicitly.\n",
            "================================\u001b[1m Human Message \u001b[0m=================================\n",
            "\n",
            "Can you search and tell me what is ExplainableAI?\n",
            "==================================\u001b[1m Ai Message \u001b[0m==================================\n",
            "Tool Calls:\n",
            "  AI_search (call_5gt8)\n",
            " Call ID: call_5gt8\n",
            "  Args:\n",
            "    query: What is Explainable AI\n",
            "=================================\u001b[1m Tool Message \u001b[0m=================================\n",
            "Name: AI_search\n",
            "\n",
            "181\n",
            "Artificial Intelligence\n",
            "Index Report 2024 Chapter 3 Preview Table of Contents3.3 Transparency and Explainability Chapter 3: Responsible AI Artificial Intelligence\n",
            "Index Report 2024\n",
            "Transparency and  \n",
            "Explainability in Numbers\n",
            "This section explores the state of AI transparency and \n",
            "explainability within academia and industry.Academia  \n",
            "Since 2019, the number of papers on transparency and \n",
            "explainability submitted to major academic conferences \n",
            "has more than tripled. In 2023, there was a record-high \n",
            "number of explainability-related submissions (393) at \n",
            "academic conferences including AAAI, FAccT, AIES, \n",
            "ICML, ICLR, and NeurIPS (Figure 3.3.1). \n",
            "395463891832444\n",
            "302556\n",
            "4246\n",
            "484454\n",
            "89134189231393\n",
            "2019 2020 2021 2022 2023050100150200250300350400 NeurIPS ICML ICLR FAccT AIES AAAINumber of AI t ranspar ency and e xplainabilit y submissionsAI transpar ency and e xplainabilit y submissions t o select a cademic c onferences, 20 19–23\n",
            "Source: AI Inde x, 202 4 | C hart: 202 4 AI Inde x repor t\n",
            "Figure 3.3.1\n",
            "\n",
            "180\n",
            "Artificial Intelligence\n",
            "Index Report 2024 Chapter 3 Preview Table of ContentsCurrent Challenges\n",
            "Transparency and explainability present several \n",
            "challenges. First, the inherent complexity of advanced \n",
            "models, particularly those based on deep learning, \n",
            "creates a “black box” scenario where it’s difficult, \n",
            "even for developers, to understand how these models \n",
            "process inputs and produce outputs. This complexity \n",
            "obstructs comprehension and complicates the task of 3.3 Transparency and Explainability \n",
            "explaining these systems to nonexperts. Second, there \n",
            "is a potential trade-off  between a model’s complexity \n",
            "and its explainability. More complex models might \n",
            "deliver superior performance but tend to be less \n",
            "interpretable than simpler models, such as decision \n",
            "trees. This situation creates a dilemma: choosing \n",
            "between high-performing yet opaque models and \n",
            "more transparent, albeit less precise, alternatives.Transparency in AI encompasses several aspects. Data and model transparency involve the open sharing of development \n",
            "choices, including data sources and algorithmic decisions. Operational transparency details how AI systems are \n",
            "deployed, monitored, and managed in practice. While explainability often falls under the umbrella of transparency, \n",
            "providing insights into the AI’s decision-making process, it is sometimes treated as a distinct category. This distinction \n",
            "underscores the importance of AI being not only transparent but also understandable to users and stakeholders. For \n",
            "the purposes of this chapter, the AI Index includes explainability within transparency, defining it as the capacity to \n",
            "comprehend and articulate the rationale behind AI decisions.3.3 Transparency and Explainability Chapter 3: Responsible AI Artificial Intelligence\n",
            "Index Report 2024\n",
            "\n",
            "185\n",
            "Artificial Intelligence\n",
            "Index Report 2024 Chapter 3 Preview Table of Contents3.3 Transparency and Explainability Chapter 3: Responsible AI Artificial Intelligence\n",
            "Index Report 2024\n",
            "Figure 3.3.6Neurosymbolic Artificial Intelligence  \n",
            "(Why, What, and How)  \n",
            "Neurosymbolic AI is an interesting research direction \n",
            "for creating more transparent and explainable AI \n",
            "models that works by integrating deep learning with \n",
            "symbolic reasoning. Unlike less interpretable deep \n",
            "learning models, symbolic reasoning offers clearer \n",
            "insights into how models work and allows for direct \n",
            "modifications of the model’s knowledge through \n",
            "expert feedback. However, symbolic reasoning alone \n",
            "typically falls short of deep learning models in terms of \n",
            "performance. Neurosymbolic AI aims to combine the \n",
            "best of both worlds.\n",
            "Research from the University of South Carolina and the University of Maryland provides a comprehensive \n",
            "mapping and taxonomy of various approaches within \n",
            "neurosymbolic AI. The research distinguishes between \n",
            "approaches that compress structured symbolic \n",
            "knowledge for integration with neural network \n",
            "structures and those that extract information from \n",
            "neural networks to translate them back into structured \n",
            "symbolic representations for reasoning. Figure 3.3.6 \n",
            "illustrates two examples of how this integration could \n",
            "be achieved. The researchers hope that neurosymbolic \n",
            "AI could mitigate some of the shortcomings of purely \n",
            "neural network–based models, such as hallucinations \n",
            "or incorrect reasoning, by mimicking human \n",
            "cognition—specifically, by enabling models to possess \n",
            "an explicit knowledge model of the world.\n",
            "Integrating neural network structures with symbolic representation\n",
            "Source: Sheth, Roy, and Gaur, 2023\n",
            "\n",
            "183\n",
            "Artificial Intelligence\n",
            "Index Report 2024 Chapter 3 Preview Table of Contents3.3 Transparency and Explainability Chapter 3: Responsible AI Artificial Intelligence\n",
            "Index Report 2024\n",
            "Featured Research\n",
            "This section showcases significant research published \n",
            "in 2023 on transparency and explainability in AI. The \n",
            "research includes a new index that monitors AI model \n",
            "transparency, as well as studies on neurosymbolic AI.\n",
            "The Foundation Model Transparency Index  \n",
            "In October 2023, Stanford, Princeton, and MIT \n",
            "researchers released the Foundation Model \n",
            "Transparency Index (FMTI). This index evaluates the \n",
            "degree to which foundation models are transparent \n",
            "across diverse dimensions, including resource \n",
            "allocation for development, algorithmic design strategies, and downstream applications of the \n",
            "models. The analysis draws on publicly accessible data \n",
            "that developers release about their models. \n",
            "Meta’s Llama 2 and BigScience’s BLOOMZ stand \n",
            "out as the most transparent models (Figure 3.3.4). \n",
            "However, it is important to note that all models \n",
            "received relatively low scores, with the mean score \n",
            "at 37%. Additionally, open models—those openly \n",
            "releasing their weights—tend to score significantly \n",
            "better on transparency, with an average score of \n",
            "51.3%, compared to closed models, which have limited \n",
            "access and score an average of 30.9%.13\n",
            " 12 21 25 34 36 40 47 48 53 54\n",
            "0 10 20 30 40 50 60 70 80 90 100Titan T ext In�ection- 1 Jurassic-2 Command Claude 2 PaLM 2 Stable Di�usion 2 GPT -4 BLOOMZ Llama 2 \n",
            "Open\n",
            "Closed\n",
            "Score Foundation model t ranspar ency total scores of open vs. clos ed de veloper s, 20 23\n",
            "Source: 2023 F oundation Model T ranspar ency Inde x\n",
            "Figure 3.3.4\n",
            "13 An updated version of the FMTI is scheduled for release in spring 2024. Therefore, the figures presented in this edition of the AI Index may not reflect the most up-to-date assessment of \n",
            "developer transparency.\n",
            "==================================\u001b[1m Ai Message \u001b[0m==================================\n",
            "\n",
            "Based on the output of the tool call, ExplainableAI (XAI) refers to the ability of an AI system to provide insights into its decision-making process, making it more transparent and understandable to users and stakeholders. It involves the capacity to comprehend and articulate the rationale behind AI decisions. XAI is considered a crucial aspect of Responsible AI, as it helps to build trust in AI systems and ensures that they are accountable and reliable.\n"
          ]
        }
      ]
    },
    {
      "cell_type": "code",
      "source": [
        "# resources used Creating_Agent_LangGraph.ipynb from drive and langchain-academy/module-1/agent.ipynb and langchain latest documentation v3"
      ],
      "metadata": {
        "id": "jfPHv3VEHaGY"
      },
      "execution_count": 75,
      "outputs": []
    },
    {
      "cell_type": "code",
      "source": [
        "# Langsmit for tracing"
      ],
      "metadata": {
        "id": "OguXQhpEIMNw"
      },
      "execution_count": 76,
      "outputs": []
    },
    {
      "cell_type": "code",
      "source": [
        "LANGCHAIN_TRACING_V2=True\n",
        "LANGCHAIN_ENDPOINT=\"https://api.smith.langchain.com\"\n",
        "LANGCHAIN_API_KEY=\"API_KEY\"\n",
        "LANGCHAIN_PROJECT=\"default\""
      ],
      "metadata": {
        "id": "pppbJMmBMcU-"
      },
      "execution_count": 77,
      "outputs": []
    },
    {
      "cell_type": "code",
      "source": [],
      "metadata": {
        "id": "Se1OqWPYNUk3"
      },
      "execution_count": null,
      "outputs": []
    }
  ]
}