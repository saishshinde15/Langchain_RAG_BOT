{
  "nbformat": 4,
  "nbformat_minor": 0,
  "metadata": {
    "colab": {
      "provenance": [],
      "authorship_tag": "ABX9TyODUjGeGLX+RsiFJYDuI38s",
      "include_colab_link": true
    },
    "kernelspec": {
      "name": "python3",
      "display_name": "Python 3"
    },
    "language_info": {
      "name": "python"
    }
  },
  "cells": [
    {
      "cell_type": "markdown",
      "metadata": {
        "id": "view-in-github",
        "colab_type": "text"
      },
      "source": [
        "<a href=\"https://colab.research.google.com/github/saishshinde15/Langchain_RAG_BOT/blob/main/LangSmith.ipynb\" target=\"_parent\"><img src=\"https://colab.research.google.com/assets/colab-badge.svg\" alt=\"Open In Colab\"/></a>"
      ]
    },
    {
      "cell_type": "code",
      "execution_count": 1,
      "metadata": {
        "id": "nlrsdmbpPNDm"
      },
      "outputs": [],
      "source": [
        "from google.colab import userdata\n",
        "import os"
      ]
    },
    {
      "cell_type": "code",
      "source": [
        "os.environ [\"GROQ_API_KEY\"] =userdata.get (\"groq\") # name of the secrets in colab notebook\n",
        "os.environ [\"LANGCHAIN_TRACING_V2\"] = \"true\"\n",
        "os.environ [\"LANGCHAIN_API_KEY\"] = userdata.get(\"langsmith\") # name of the secrets in colab notebook\n",
        "os.environ [\"LANGCHAIN_PROJECT\"] = \"hello\"\n",
        "os.environ [\"LANGCHAIN_ENDPOINT\"] = \"https://api.smith.langchain.com\""
      ],
      "metadata": {
        "id": "DRNindXdPcaD"
      },
      "execution_count": null,
      "outputs": []
    },
    {
      "cell_type": "code",
      "source": [
        "#to run in vs code using this video link as refrence https://www.youtube.com/watch?v=3Gcm27l-uyQ&t=25s"
      ],
      "metadata": {
        "id": "b1cq0_IdPtuc"
      },
      "execution_count": null,
      "outputs": []
    }
  ]
}